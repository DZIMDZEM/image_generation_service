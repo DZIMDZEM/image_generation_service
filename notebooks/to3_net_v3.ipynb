{
 "cells": [
  {
   "metadata": {
    "ExecuteTime": {
     "end_time": "2024-06-03T10:42:43.776835Z",
     "start_time": "2024-06-03T10:42:43.764869Z"
    }
   },
   "cell_type": "code",
   "source": [
    "import torch\n",
    "from torchvision import datasets"
   ],
   "id": "b10883462b527219",
   "outputs": [],
   "execution_count": 13
  },
  {
   "metadata": {},
   "cell_type": "markdown",
   "source": "# Load data",
   "id": "443e56c55073b7fc"
  },
  {
   "metadata": {
    "ExecuteTime": {
     "end_time": "2024-06-03T10:42:44.586846Z",
     "start_time": "2024-06-03T10:42:44.568323Z"
    }
   },
   "cell_type": "code",
   "source": [
    "# Path to your dataset\n",
    "dataset_path = r'C:\\Users\\dzmit\\Downloads\\3d-objects\\2024-05-09_state\\tarin_3d\\images'"
   ],
   "id": "3f10b3d19164ed8c",
   "outputs": [],
   "execution_count": 14
  },
  {
   "metadata": {
    "ExecuteTime": {
     "end_time": "2024-06-03T10:42:44.962291Z",
     "start_time": "2024-06-03T10:42:44.943503Z"
    }
   },
   "cell_type": "code",
   "source": [
    "from torchvision import transforms\n",
    "\n",
    "transform = transforms.Compose([\n",
    "    transforms.Resize((256, 256)),  # Resize all images to 64x64\n",
    "    transforms.ToTensor(),\n",
    "    transforms.Normalize(mean=[0.5, 0.5, 0.5], std=[0.5, 0.5, 0.5])\n",
    "])\n",
    "\n",
    "# Create the dataset\n",
    "dataset = datasets.ImageFolder(root=dataset_path, transform=transform)"
   ],
   "id": "ebdc6330df45d27b",
   "outputs": [],
   "execution_count": 15
  },
  {
   "metadata": {
    "ExecuteTime": {
     "end_time": "2024-06-03T10:42:45.429784Z",
     "start_time": "2024-06-03T10:42:45.415678Z"
    }
   },
   "cell_type": "code",
   "source": "# dataset[0][0].shape",
   "id": "f2f2fa2a6eb066c3",
   "outputs": [],
   "execution_count": 16
  },
  {
   "metadata": {
    "ExecuteTime": {
     "end_time": "2024-06-03T10:42:45.649370Z",
     "start_time": "2024-06-03T10:42:45.631529Z"
    }
   },
   "cell_type": "code",
   "source": [
    "# Path to your dataset\n",
    "targets_path = r'C:\\Users\\dzmit\\Downloads\\3d-objects\\2024-05-09_state\\tarin_3d\\scaled'"
   ],
   "id": "f647306a72e310b1",
   "outputs": [],
   "execution_count": 17
  },
  {
   "metadata": {
    "ExecuteTime": {
     "end_time": "2024-06-03T10:23:04.184527Z",
     "start_time": "2024-06-03T10:23:04.170911Z"
    }
   },
   "cell_type": "code",
   "source": [
    "import numpy as np\n",
    "\n",
    "\n",
    "# transform_target = transforms.Compose([\n",
    "#     # transforms.Resize((64, 64)),  # Resize all images to 64x64\n",
    "#     # transforms.ToTensor(),\n",
    "#     # transforms.ToFloat(),\n",
    "#     # transforms.Normalize(mean=[0.5, 0.5, 0.5], std=[0.5, 0.5, 0.5])\n",
    "# ])\n",
    "\n",
    "def npy_loader(path):\n",
    "\n",
    "     # Load the data from a .npy file\n",
    "    sample = np.load(path)\n",
    "\n",
    "    # Convert the numpy array from int to float32\n",
    "    sample = sample.astype(np.float32)\n",
    "\n",
    "    # Convert numpy array to a PyTorch tensor\n",
    "    sample = torch.from_numpy(sample)\n",
    "\n",
    "    # Optionally, normalize the data here if required\n",
    "    # sample = (sample - sample.mean()) / sample.std()\n",
    "\n",
    "    return sample\n",
    "\n",
    "    # sample = torch.from_numpy(np.load(path))\n",
    "    # return sample\n",
    "\n",
    "\n",
    "# Create the dataset\n",
    "targets = datasets.DatasetFolder(root=targets_path, loader=npy_loader, extensions=['.npy'])"
   ],
   "id": "c7d441238732c7c2",
   "outputs": [],
   "execution_count": 6
  },
  {
   "metadata": {
    "ExecuteTime": {
     "end_time": "2024-06-03T10:23:06.240533Z",
     "start_time": "2024-06-03T10:23:06.224535Z"
    }
   },
   "cell_type": "code",
   "source": [
    "# DataLoader\n",
    "batch_size = 24  # Batch size\n",
    "\n",
    "dataloader = torch.utils.data.DataLoader(dataset, batch_size=batch_size, shuffle=False)\n",
    "targetloader = torch.utils.data.DataLoader(targets, batch_size=batch_size, shuffle=False)"
   ],
   "id": "460c215c96b56ded",
   "outputs": [],
   "execution_count": 7
  },
  {
   "metadata": {
    "ExecuteTime": {
     "end_time": "2024-06-03T10:23:12.546270Z",
     "start_time": "2024-06-03T10:23:12.522275Z"
    }
   },
   "cell_type": "code",
   "source": [
    "import torch\n",
    "import torch.nn as nn\n",
    "import torch.nn.functional as F\n",
    "\n",
    "class To3Net(nn.Module):\n",
    "    def __init__(self):\n",
    "        super(To3Net, self).__init__()\n",
    "        self.encoder = nn.Sequential(\n",
    "            nn.Conv2d(3, 64, kernel_size=3, stride=1, padding=1),\n",
    "            nn.ReLU(),\n",
    "            nn.MaxPool2d(2),  # Output: 64 x 128 x 128\n",
    "            nn.Conv2d(64, 128, kernel_size=3, stride=1, padding=1),\n",
    "            nn.ReLU(),\n",
    "            nn.MaxPool2d(2),  # Output: 128 x 64 x 64\n",
    "            nn.Conv2d(128, 256, kernel_size=3, stride=1, padding=1),\n",
    "            nn.ReLU(),\n",
    "        )\n",
    "\n",
    "        # Adjusting to use Conv3d\n",
    "        self.decoder = nn.Sequential(\n",
    "            nn.Conv3d(1, 128, kernel_size=(5, 4, 4), stride=(4, 2, 2), padding=(0, 0, 0)),\n",
    "            nn.ReLU(),\n",
    "            nn.Conv3d(128, 32, kernel_size=(5, 3, 3), stride=(2, 2, 2), padding=(1, 2, 2)),\n",
    "            nn.ReLU(),\n",
    "            nn.Conv3d(32, 1, kernel_size=(2, 2, 2), stride=(2, 1, 1), padding=(1, 0, 0)),\n",
    "            nn.Sigmoid()  # Binary output via sigmoid activation\n",
    "        )\n",
    "\n",
    "    def forward(self, x):\n",
    "        x = self.encoder(x)\n",
    "        # Correct reshaping to 3D by expanding height and width while keeping depth\n",
    "        x = x.view(x.size(0), 1, 256, 64, 64).permute(0, 1, 2, 3, 4)  # No need for change, this reshaping was correct\n",
    "        x = self.decoder(x)\n",
    "\n",
    "        return x\n"
   ],
   "id": "9cd0e609b0d9e763",
   "outputs": [],
   "execution_count": 8
  },
  {
   "metadata": {},
   "cell_type": "markdown",
   "source": "# Device",
   "id": "c2e4e25174e751e2"
  },
  {
   "metadata": {
    "ExecuteTime": {
     "end_time": "2024-06-03T10:42:48.881061Z",
     "start_time": "2024-06-03T10:42:48.846104Z"
    }
   },
   "cell_type": "code",
   "source": [
    "# Check if CUDA is available, else use CPU\n",
    "device = torch.device(\"cuda\" if torch.cuda.is_available() else \"cpu\")\n",
    "print(f'Using device: {device}')"
   ],
   "id": "a2c6b74b77c58978",
   "outputs": [
    {
     "name": "stdout",
     "output_type": "stream",
     "text": [
      "Using device: cuda\n"
     ]
    }
   ],
   "execution_count": 18
  },
  {
   "metadata": {
    "ExecuteTime": {
     "end_time": "2024-06-03T10:42:49.270486Z",
     "start_time": "2024-06-03T10:42:49.254270Z"
    }
   },
   "cell_type": "code",
   "source": "torch.cuda.is_available()",
   "id": "e193b77c5f2fc5b8",
   "outputs": [
    {
     "data": {
      "text/plain": [
       "True"
      ]
     },
     "execution_count": 19,
     "metadata": {},
     "output_type": "execute_result"
    }
   ],
   "execution_count": 19
  },
  {
   "metadata": {},
   "cell_type": "markdown",
   "source": "# Load the model",
   "id": "75d5a4b5bd0d48f6"
  },
  {
   "metadata": {
    "ExecuteTime": {
     "end_time": "2024-06-03T10:42:50.328134Z",
     "start_time": "2024-06-03T10:42:50.324134Z"
    }
   },
   "cell_type": "code",
   "source": [
    "## Clean cache\n",
    "# del model\n",
    "# del optimizer"
   ],
   "id": "e62414826c4f0d05",
   "outputs": [],
   "execution_count": 20
  },
  {
   "metadata": {
    "ExecuteTime": {
     "end_time": "2024-06-03T10:42:53.659251Z",
     "start_time": "2024-06-03T10:42:53.478184Z"
    }
   },
   "cell_type": "code",
   "source": [
    "model = To3Net().to(device)\n",
    "# print(model)"
   ],
   "id": "47e95251fca331f6",
   "outputs": [],
   "execution_count": 21
  },
  {
   "metadata": {
    "ExecuteTime": {
     "end_time": "2024-06-03T10:23:28.476836Z",
     "start_time": "2024-06-03T10:23:28.350903Z"
    }
   },
   "cell_type": "code",
   "source": "model(dataset[0][0].unsqueeze(0)).shape  #.to(device)",
   "id": "d2a6e9641685b762",
   "outputs": [
    {
     "data": {
      "text/plain": [
       "torch.Size([1, 1, 16, 16, 16])"
      ]
     },
     "execution_count": 11,
     "metadata": {},
     "output_type": "execute_result"
    }
   ],
   "execution_count": 11
  },
  {
   "metadata": {},
   "cell_type": "markdown",
   "source": "# Logging function",
   "id": "44d40bfef7e813dc"
  },
  {
   "metadata": {
    "ExecuteTime": {
     "end_time": "2024-06-03T10:44:24.045960Z",
     "start_time": "2024-06-03T10:44:24.036271Z"
    }
   },
   "cell_type": "code",
   "source": [
    "import trimesh\n",
    "import matplotlib.pyplot as plt\n",
    "\n",
    "\n",
    "def check_output(generated_object, input_image, epoch=0, batch=0):\n",
    "    generated_object = generated_object.to('cpu').clone().detach() # Move to CPU and detach from the computation graph\n",
    "    generated_object = (generated_object.numpy() > np.median(generated_object.numpy())).astype(np.uint8) # Convert to numpy array\n",
    "    generated_object[0][0][0] = 1\n",
    "\n",
    "    # Save the mesh\n",
    "    voxel_mesh = trimesh.voxel.ops.matrix_to_marching_cubes(generated_object)\n",
    "    voxel_mesh.export(f'output/check_generated_object_epoch_{epoch}_batch_{batch}.obj')\n",
    "\n",
    "     # Normalize the image to [0, 1] if it's not already\n",
    "    image = input_image.to('cpu').clone().detach().numpy().transpose(1, 2, 0)\n",
    "    image = (image + 1) / 2  # Assuming that the output is in the range [-1, 1]\n",
    "    image = image.clip(0, 1)  # Ensure the values are within [0, 1]\n",
    "\n",
    "    plt.imshow(image)\n",
    "    plt.savefig(f'output/check_generated_image_epoch_{epoch}_batch_{batch}.png')\n"
   ],
   "id": "4c0455a8c9cc8289",
   "outputs": [],
   "execution_count": 28
  },
  {
   "metadata": {},
   "cell_type": "markdown",
   "source": "# Optimizer settings",
   "id": "bddbbd9335b17516"
  },
  {
   "metadata": {
    "ExecuteTime": {
     "end_time": "2024-06-03T10:43:04.692951Z",
     "start_time": "2024-06-03T10:43:04.678455Z"
    }
   },
   "cell_type": "code",
   "source": [
    "# Optimizers\n",
    "optimizer = torch.optim.Adam(model.parameters(), lr=0.00001, betas=(0.5, 0.999))\n",
    "# optimizer_D = torch.optim.Adam(discriminator.parameters(), lr=0.0002, betas=(0.5, 0.999))\n",
    "\n",
    "# Loss function\n",
    "criterion = nn.BCELoss()"
   ],
   "id": "79e3ca6230018c26",
   "outputs": [],
   "execution_count": 23
  },
  {
   "metadata": {
    "ExecuteTime": {
     "end_time": "2024-06-03T10:43:05.611916Z",
     "start_time": "2024-06-03T10:43:05.593762Z"
    }
   },
   "cell_type": "code",
   "source": [
    "# # # Load the checkpoint\n",
    "# checkpoint = torch.load('GAN_ass_199.pth')\n",
    "#\n",
    "# # Assuming the generator and discriminator are already instantiated as per the saved model architecture\n",
    "# generator.load_state_dict(checkpoint['generator_state_dict'])\n",
    "# discriminator.load_state_dict(checkpoint['discriminator_state_dict'])\n",
    "#\n",
    "# # Assuming the optimizers are already instantiated with the parameters of their respective models\n",
    "# optimizer_G.load_state_dict(checkpoint['optimizer_G_state_dict'])\n",
    "# optimizer_D.load_state_dict(checkpoint['optimizer_D_state_dict'])\n",
    "#\n",
    "# # If you saved the epoch number, you can also load this to know where to resume training\n",
    "# epoch = checkpoint['epoch']\n"
   ],
   "id": "45b9a74ae7638170",
   "outputs": [],
   "execution_count": 24
  },
  {
   "metadata": {
    "ExecuteTime": {
     "end_time": "2024-06-03T10:43:06.047986Z",
     "start_time": "2024-06-03T10:43:06.034987Z"
    }
   },
   "cell_type": "code",
   "source": [
    "# for i, ((images, _), (objects, _)) in enumerate(zip(dataloader, targetloader)):\n",
    "#     check_output(objects[7], images[4], epoch=i)"
   ],
   "id": "80c151c9ac93b78a",
   "outputs": [],
   "execution_count": 25
  },
  {
   "metadata": {},
   "cell_type": "markdown",
   "source": "# Train loop",
   "id": "850799956fe0cb88"
  },
  {
   "metadata": {
    "ExecuteTime": {
     "end_time": "2024-06-03T10:43:09.694328Z",
     "start_time": "2024-06-03T10:43:09.685328Z"
    }
   },
   "cell_type": "code",
   "source": "num_epochs = 300",
   "id": "11a1971908ad53d7",
   "outputs": [],
   "execution_count": 26
  },
  {
   "metadata": {
    "ExecuteTime": {
     "end_time": "2024-06-03T10:56:54.464430Z",
     "start_time": "2024-06-03T10:44:48.576633Z"
    }
   },
   "cell_type": "code",
   "source": [
    "for epoch in range(num_epochs):\n",
    "    try:\n",
    "        for i, ((images, _), (objects, _)) in enumerate(zip(dataloader, targetloader)):\n",
    "            # Move data to the appropriate device\n",
    "            images = images.to(device)\n",
    "            objects = objects.to(device)\n",
    "\n",
    "            ### Train Generator\n",
    "            optimizer.zero_grad()\n",
    "\n",
    "            output = model(images).squeeze(1)\n",
    "            loss = criterion(output, objects)\n",
    "            loss.backward()\n",
    "\n",
    "            optimizer.step()\n",
    "\n",
    "            if (i + 1) % 20 == 0:\n",
    "                print(f'Epoch [{epoch + 1}/{num_epochs}], Step [{i + 1}/{len(dataloader)}], '\n",
    "                      f'Loss: {loss.item():.4f}')\n",
    "                \n",
    "            if (epoch + 1) % 10 == 0:\n",
    "                # if (i + 1) % 5 == 0:\n",
    "                check_output(output[4], images[4], epoch=epoch, batch=i)\n",
    "                    \n",
    "        \n",
    "        #     # check_output(fake_images[0], epoch)\n",
    "        #     generate_and_plot_images(25, epoch=epoch)\n",
    "\n",
    "        if (epoch + 1) % 30 == 0:\n",
    "            checkpoint = {\n",
    "                'model_state_dict': model.state_dict(),\n",
    "                'optimizer_state_dict': optimizer.state_dict(),\n",
    "                'epoch': epoch  # Optional, if you want to also save the epoch number\n",
    "            }\n",
    "\n",
    "            torch.save(checkpoint, f'GAN_ass_{epoch}.pth')\n",
    "\n",
    "    except OSError:\n",
    "        print(f\"An error occurred while processing the image. Epoch: {epoch}, batch: {i}\")\n",
    "        continue\n"
   ],
   "id": "6701c6aa62fd5790",
   "outputs": [
    {
     "name": "stdout",
     "output_type": "stream",
     "text": [
      "Epoch [1/300], Step [20/44], Loss: 0.4716\n",
      "Epoch [1/300], Step [40/44], Loss: 0.3365\n",
      "Epoch [2/300], Step [20/44], Loss: 0.4058\n",
      "Epoch [2/300], Step [40/44], Loss: 0.3162\n",
      "Epoch [3/300], Step [20/44], Loss: 0.3945\n",
      "Epoch [3/300], Step [40/44], Loss: 0.3121\n",
      "Epoch [4/300], Step [20/44], Loss: 0.3890\n",
      "Epoch [4/300], Step [40/44], Loss: 0.3108\n",
      "Epoch [5/300], Step [20/44], Loss: 0.3863\n",
      "Epoch [5/300], Step [40/44], Loss: 0.3100\n",
      "Epoch [6/300], Step [20/44], Loss: 0.3845\n",
      "Epoch [6/300], Step [40/44], Loss: 0.3093\n",
      "Epoch [7/300], Step [20/44], Loss: 0.3832\n",
      "Epoch [7/300], Step [40/44], Loss: 0.3084\n",
      "Epoch [8/300], Step [20/44], Loss: 0.3820\n",
      "Epoch [8/300], Step [40/44], Loss: 0.3077\n",
      "Epoch [9/300], Step [20/44], Loss: 0.3810\n",
      "Epoch [9/300], Step [40/44], Loss: 0.3069\n",
      "Epoch [10/300], Step [20/44], Loss: 0.3800\n",
      "Epoch [10/300], Step [40/44], Loss: 0.3061\n",
      "Epoch [11/300], Step [20/44], Loss: 0.3790\n",
      "Epoch [11/300], Step [40/44], Loss: 0.3054\n",
      "Epoch [12/300], Step [20/44], Loss: 0.3781\n",
      "Epoch [12/300], Step [40/44], Loss: 0.3047\n",
      "Epoch [13/300], Step [20/44], Loss: 0.3773\n",
      "Epoch [13/300], Step [40/44], Loss: 0.3041\n",
      "Epoch [14/300], Step [20/44], Loss: 0.3765\n",
      "Epoch [14/300], Step [40/44], Loss: 0.3036\n"
     ]
    },
    {
     "ename": "KeyboardInterrupt",
     "evalue": "",
     "output_type": "error",
     "traceback": [
      "\u001B[1;31m---------------------------------------------------------------------------\u001B[0m",
      "\u001B[1;31mKeyboardInterrupt\u001B[0m                         Traceback (most recent call last)",
      "Cell \u001B[1;32mIn[29], line 5\u001B[0m\n\u001B[0;32m      2\u001B[0m \u001B[38;5;28;01mtry\u001B[39;00m:\n\u001B[0;32m      3\u001B[0m     \u001B[38;5;28;01mfor\u001B[39;00m i, ((images, _), (objects, _)) \u001B[38;5;129;01min\u001B[39;00m \u001B[38;5;28menumerate\u001B[39m(\u001B[38;5;28mzip\u001B[39m(dataloader, targetloader)):\n\u001B[0;32m      4\u001B[0m         \u001B[38;5;66;03m# Move data to the appropriate device\u001B[39;00m\n\u001B[1;32m----> 5\u001B[0m         images \u001B[38;5;241m=\u001B[39m \u001B[43mimages\u001B[49m\u001B[38;5;241;43m.\u001B[39;49m\u001B[43mto\u001B[49m\u001B[43m(\u001B[49m\u001B[43mdevice\u001B[49m\u001B[43m)\u001B[49m\n\u001B[0;32m      6\u001B[0m         objects \u001B[38;5;241m=\u001B[39m objects\u001B[38;5;241m.\u001B[39mto(device)\n\u001B[0;32m      8\u001B[0m         \u001B[38;5;66;03m### Train Generator\u001B[39;00m\n",
      "\u001B[1;31mKeyboardInterrupt\u001B[0m: "
     ]
    },
    {
     "name": "stdout",
     "output_type": "stream",
     "text": [
      "Error in callback <function flush_figures at 0x0000016D5D630940> (for post_execute):\n"
     ]
    },
    {
     "name": "stderr",
     "output_type": "stream",
     "text": [
      "\n",
      "KeyboardInterrupt\n",
      "\n"
     ]
    }
   ],
   "execution_count": 29
  },
  {
   "metadata": {
    "ExecuteTime": {
     "end_time": "2024-05-10T10:10:40.670813Z",
     "start_time": "2024-05-10T10:10:40.422963Z"
    }
   },
   "cell_type": "code",
   "source": "check_output(objects[4], images[4], epoch=1000, batch=1000)",
   "id": "a02065bc9f855322",
   "outputs": [
    {
     "name": "stdout",
     "output_type": "stream",
     "text": [
      "593\n"
     ]
    },
    {
     "data": {
      "text/plain": [
       "<Figure size 640x480 with 1 Axes>"
      ],
      "image/png": "[encoded data removed]"
     },
     "metadata": {},
     "output_type": "display_data"
    }
   ],
   "execution_count": 45
  },
  {
   "metadata": {
    "ExecuteTime": {
     "end_time": "2024-05-10T01:05:20.103203Z",
     "start_time": "2024-05-10T01:05:19.932650Z"
    }
   },
   "cell_type": "code",
   "source": "check_output(output[4], images[4], epoch=0)",
   "id": "fc5f1e58d3dff28d",
   "outputs": [
    {
     "data": {
      "text/plain": [
       "<Figure size 640x480 with 1 Axes>"
      ],
      "image/png": "[encoded data removed]"
     },
     "metadata": {},
     "output_type": "display_data"
    }
   ],
   "execution_count": 122
  },
  {
   "metadata": {
    "ExecuteTime": {
     "end_time": "2024-05-10T01:05:20.414592Z",
     "start_time": "2024-05-10T01:05:20.385038Z"
    }
   },
   "cell_type": "code",
   "source": "output[4]",
   "id": "17f90926de44140",
   "outputs": [
    {
     "data": {
      "text/plain": [
       "tensor([[[8.8006e-02, 2.0144e-01, 2.9009e-01,  ..., 8.9391e-02,\n",
       "          7.4145e-02, 3.3514e-02],\n",
       "         [1.3633e-01, 2.3901e-01, 2.7001e-01,  ..., 7.4983e-02,\n",
       "          7.2419e-02, 3.8240e-02],\n",
       "         [1.6877e-01, 2.6712e-01, 2.8253e-01,  ..., 6.7611e-02,\n",
       "          9.0792e-02, 3.1234e-02],\n",
       "         ...,\n",
       "         [3.1964e-02, 5.0868e-02, 5.6639e-02,  ..., 3.3566e-04,\n",
       "          1.1422e-03, 3.9571e-04],\n",
       "         [2.1923e-02, 2.8927e-02, 4.5737e-02,  ..., 2.8116e-04,\n",
       "          5.6690e-03, 5.9631e-03],\n",
       "         [5.7261e-03, 1.4686e-02, 1.9347e-02,  ..., 2.8720e-04,\n",
       "          4.6226e-03, 5.4296e-03]],\n",
       "\n",
       "        [[9.8284e-02, 1.8116e-01, 2.5352e-01,  ..., 1.0125e-01,\n",
       "          7.2335e-02, 3.6770e-02],\n",
       "         [1.5201e-01, 2.3681e-01, 3.1123e-01,  ..., 9.2363e-02,\n",
       "          7.7043e-02, 4.3951e-02],\n",
       "         [1.8236e-01, 3.0570e-01, 2.8118e-01,  ..., 5.4563e-02,\n",
       "          7.2248e-02, 3.4171e-02],\n",
       "         ...,\n",
       "         [2.5424e-02, 4.2590e-02, 6.6943e-02,  ..., 3.1306e-04,\n",
       "          6.4491e-04, 8.9639e-05],\n",
       "         [1.8536e-02, 3.7929e-02, 4.7517e-02,  ..., 1.4510e-04,\n",
       "          4.0019e-03, 4.9133e-03],\n",
       "         [6.1722e-03, 2.5516e-02, 1.3822e-02,  ..., 7.5239e-05,\n",
       "          4.4656e-03, 2.1932e-03]],\n",
       "\n",
       "        [[8.8006e-02, 2.0144e-01, 2.9009e-01,  ..., 8.9391e-02,\n",
       "          7.4145e-02, 3.3514e-02],\n",
       "         [1.3633e-01, 2.3901e-01, 2.7001e-01,  ..., 7.4983e-02,\n",
       "          7.2419e-02, 3.8240e-02],\n",
       "         [1.6877e-01, 2.6712e-01, 2.8253e-01,  ..., 6.7611e-02,\n",
       "          9.0792e-02, 3.1234e-02],\n",
       "         ...,\n",
       "         [3.1964e-02, 5.0868e-02, 5.6639e-02,  ..., 3.3566e-04,\n",
       "          1.1422e-03, 3.9571e-04],\n",
       "         [2.1923e-02, 2.8927e-02, 4.5737e-02,  ..., 2.8116e-04,\n",
       "          5.6690e-03, 5.9631e-03],\n",
       "         [5.7261e-03, 1.4686e-02, 1.9347e-02,  ..., 2.8720e-04,\n",
       "          4.6226e-03, 5.4296e-03]],\n",
       "\n",
       "        ...,\n",
       "\n",
       "        [[9.8284e-02, 1.8116e-01, 2.5352e-01,  ..., 1.0125e-01,\n",
       "          7.2335e-02, 3.6770e-02],\n",
       "         [1.5201e-01, 2.3681e-01, 3.1123e-01,  ..., 9.2363e-02,\n",
       "          7.7043e-02, 4.3951e-02],\n",
       "         [1.8236e-01, 3.0570e-01, 2.8118e-01,  ..., 5.4563e-02,\n",
       "          7.2248e-02, 3.4171e-02],\n",
       "         ...,\n",
       "         [2.5424e-02, 4.2590e-02, 6.6943e-02,  ..., 3.1306e-04,\n",
       "          6.4491e-04, 8.9639e-05],\n",
       "         [1.8536e-02, 3.7929e-02, 4.7517e-02,  ..., 1.4510e-04,\n",
       "          4.0019e-03, 4.9133e-03],\n",
       "         [6.1722e-03, 2.5516e-02, 1.3822e-02,  ..., 7.5239e-05,\n",
       "          4.4656e-03, 2.1932e-03]],\n",
       "\n",
       "        [[8.8006e-02, 2.0144e-01, 2.9009e-01,  ..., 8.9391e-02,\n",
       "          7.4145e-02, 3.3514e-02],\n",
       "         [1.3633e-01, 2.3901e-01, 2.7001e-01,  ..., 7.4983e-02,\n",
       "          7.2419e-02, 3.8240e-02],\n",
       "         [1.6877e-01, 2.6712e-01, 2.8253e-01,  ..., 6.7611e-02,\n",
       "          9.0792e-02, 3.1234e-02],\n",
       "         ...,\n",
       "         [3.1964e-02, 5.0868e-02, 5.6639e-02,  ..., 3.3566e-04,\n",
       "          1.1422e-03, 3.9571e-04],\n",
       "         [2.1923e-02, 2.8927e-02, 4.5737e-02,  ..., 2.8116e-04,\n",
       "          5.6690e-03, 5.9631e-03],\n",
       "         [5.7261e-03, 1.4686e-02, 1.9347e-02,  ..., 2.8720e-04,\n",
       "          4.6226e-03, 5.4296e-03]],\n",
       "\n",
       "        [[9.8284e-02, 1.8116e-01, 2.5352e-01,  ..., 1.0125e-01,\n",
       "          7.2335e-02, 3.6770e-02],\n",
       "         [1.5201e-01, 2.3681e-01, 3.1123e-01,  ..., 9.2363e-02,\n",
       "          7.7043e-02, 4.3951e-02],\n",
       "         [1.8236e-01, 3.0570e-01, 2.8118e-01,  ..., 5.4563e-02,\n",
       "          7.2248e-02, 3.4171e-02],\n",
       "         ...,\n",
       "         [2.5424e-02, 4.2590e-02, 6.6943e-02,  ..., 3.1306e-04,\n",
       "          6.4491e-04, 8.9639e-05],\n",
       "         [1.8536e-02, 3.7929e-02, 4.7517e-02,  ..., 1.4510e-04,\n",
       "          4.0019e-03, 4.9133e-03],\n",
       "         [6.1722e-03, 2.5516e-02, 1.3822e-02,  ..., 7.5239e-05,\n",
       "          4.4656e-03, 2.1932e-03]]], device='cuda:0',\n",
       "       grad_fn=<SelectBackward0>)"
      ]
     },
     "execution_count": 123,
     "metadata": {},
     "output_type": "execute_result"
    }
   ],
   "execution_count": 123
  },
  {
   "metadata": {
    "ExecuteTime": {
     "end_time": "2024-05-10T00:05:52.014910Z",
     "start_time": "2024-05-10T00:05:51.959799Z"
    }
   },
   "cell_type": "code",
   "source": "objects[0][0]",
   "id": "a0a2cfa72d326eea",
   "outputs": [
    {
     "data": {
      "text/plain": [
       "tensor([[[[0., 0., 0.,  ..., 0., 0., 0.],\n",
       "          [0., 0., 0.,  ..., 0., 0., 0.],\n",
       "          [0., 0., 1.,  ..., 0., 0., 0.],\n",
       "          ...,\n",
       "          [1., 1., 1.,  ..., 0., 0., 0.],\n",
       "          [0., 0., 1.,  ..., 0., 0., 0.],\n",
       "          [0., 0., 0.,  ..., 0., 0., 0.]],\n",
       "\n",
       "         [[0., 0., 0.,  ..., 0., 0., 0.],\n",
       "          [0., 0., 0.,  ..., 0., 0., 0.],\n",
       "          [0., 0., 0.,  ..., 0., 0., 0.],\n",
       "          ...,\n",
       "          [0., 0., 0.,  ..., 0., 0., 0.],\n",
       "          [0., 0., 0.,  ..., 0., 0., 0.],\n",
       "          [0., 0., 0.,  ..., 0., 0., 0.]],\n",
       "\n",
       "         [[0., 0., 0.,  ..., 0., 0., 0.],\n",
       "          [0., 0., 0.,  ..., 0., 0., 0.],\n",
       "          [0., 0., 0.,  ..., 0., 0., 0.],\n",
       "          ...,\n",
       "          [0., 0., 0.,  ..., 0., 0., 0.],\n",
       "          [0., 0., 0.,  ..., 0., 0., 0.],\n",
       "          [0., 0., 0.,  ..., 0., 0., 0.]],\n",
       "\n",
       "         ...,\n",
       "\n",
       "         [[0., 0., 0.,  ..., 0., 0., 0.],\n",
       "          [0., 0., 0.,  ..., 0., 0., 0.],\n",
       "          [0., 0., 0.,  ..., 0., 0., 0.],\n",
       "          ...,\n",
       "          [0., 0., 0.,  ..., 0., 0., 0.],\n",
       "          [0., 0., 0.,  ..., 0., 0., 0.],\n",
       "          [0., 0., 0.,  ..., 0., 0., 0.]],\n",
       "\n",
       "         [[0., 0., 0.,  ..., 0., 0., 0.],\n",
       "          [0., 0., 0.,  ..., 0., 0., 0.],\n",
       "          [0., 0., 0.,  ..., 0., 0., 0.],\n",
       "          ...,\n",
       "          [0., 0., 0.,  ..., 0., 0., 0.],\n",
       "          [0., 0., 0.,  ..., 0., 0., 0.],\n",
       "          [0., 0., 0.,  ..., 0., 0., 0.]],\n",
       "\n",
       "         [[0., 0., 0.,  ..., 0., 0., 0.],\n",
       "          [0., 0., 0.,  ..., 0., 0., 0.],\n",
       "          [0., 0., 0.,  ..., 0., 0., 0.],\n",
       "          ...,\n",
       "          [0., 0., 0.,  ..., 0., 0., 0.],\n",
       "          [0., 0., 0.,  ..., 0., 0., 0.],\n",
       "          [0., 0., 0.,  ..., 0., 0., 0.]]],\n",
       "\n",
       "\n",
       "        [[[0., 0., 0.,  ..., 0., 0., 0.],\n",
       "          [0., 0., 0.,  ..., 0., 0., 0.],\n",
       "          [0., 0., 0.,  ..., 0., 0., 0.],\n",
       "          ...,\n",
       "          [1., 1., 1.,  ..., 0., 0., 0.],\n",
       "          [0., 0., 0.,  ..., 0., 0., 0.],\n",
       "          [0., 0., 0.,  ..., 0., 0., 0.]],\n",
       "\n",
       "         [[0., 0., 0.,  ..., 0., 0., 0.],\n",
       "          [0., 0., 0.,  ..., 0., 0., 0.],\n",
       "          [0., 0., 1.,  ..., 0., 0., 0.],\n",
       "          ...,\n",
       "          [1., 1., 1.,  ..., 0., 0., 0.],\n",
       "          [0., 0., 1.,  ..., 0., 0., 0.],\n",
       "          [0., 0., 0.,  ..., 0., 0., 0.]],\n",
       "\n",
       "         [[0., 0., 0.,  ..., 0., 0., 0.],\n",
       "          [0., 0., 0.,  ..., 0., 0., 0.],\n",
       "          [0., 0., 0.,  ..., 0., 0., 0.],\n",
       "          ...,\n",
       "          [0., 0., 0.,  ..., 0., 0., 0.],\n",
       "          [0., 0., 0.,  ..., 0., 0., 0.],\n",
       "          [0., 0., 0.,  ..., 0., 0., 0.]],\n",
       "\n",
       "         ...,\n",
       "\n",
       "         [[0., 0., 0.,  ..., 0., 0., 0.],\n",
       "          [0., 0., 0.,  ..., 0., 0., 0.],\n",
       "          [0., 0., 0.,  ..., 0., 0., 0.],\n",
       "          ...,\n",
       "          [0., 0., 0.,  ..., 0., 0., 0.],\n",
       "          [0., 0., 0.,  ..., 0., 0., 0.],\n",
       "          [0., 0., 0.,  ..., 0., 0., 0.]],\n",
       "\n",
       "         [[0., 0., 0.,  ..., 0., 0., 0.],\n",
       "          [0., 0., 0.,  ..., 0., 0., 0.],\n",
       "          [0., 0., 0.,  ..., 0., 0., 0.],\n",
       "          ...,\n",
       "          [0., 0., 0.,  ..., 0., 0., 0.],\n",
       "          [0., 0., 0.,  ..., 0., 0., 0.],\n",
       "          [0., 0., 0.,  ..., 0., 0., 0.]],\n",
       "\n",
       "         [[0., 0., 0.,  ..., 0., 0., 0.],\n",
       "          [0., 0., 0.,  ..., 0., 0., 0.],\n",
       "          [0., 0., 0.,  ..., 0., 0., 0.],\n",
       "          ...,\n",
       "          [0., 0., 0.,  ..., 0., 0., 0.],\n",
       "          [0., 0., 0.,  ..., 0., 0., 0.],\n",
       "          [0., 0., 0.,  ..., 0., 0., 0.]]],\n",
       "\n",
       "\n",
       "        [[[0., 0., 0.,  ..., 0., 0., 0.],\n",
       "          [0., 0., 0.,  ..., 0., 0., 0.],\n",
       "          [0., 0., 0.,  ..., 0., 0., 0.],\n",
       "          ...,\n",
       "          [1., 1., 0.,  ..., 0., 0., 0.],\n",
       "          [0., 0., 0.,  ..., 0., 0., 0.],\n",
       "          [0., 0., 0.,  ..., 0., 0., 0.]],\n",
       "\n",
       "         [[0., 0., 0.,  ..., 0., 0., 0.],\n",
       "          [0., 0., 0.,  ..., 0., 0., 0.],\n",
       "          [0., 0., 0.,  ..., 0., 0., 0.],\n",
       "          ...,\n",
       "          [1., 1., 1.,  ..., 0., 0., 0.],\n",
       "          [0., 0., 0.,  ..., 0., 0., 0.],\n",
       "          [0., 0., 0.,  ..., 0., 0., 0.]],\n",
       "\n",
       "         [[0., 0., 0.,  ..., 0., 0., 0.],\n",
       "          [0., 0., 0.,  ..., 0., 0., 0.],\n",
       "          [0., 0., 1.,  ..., 0., 0., 0.],\n",
       "          ...,\n",
       "          [0., 1., 1.,  ..., 0., 0., 0.],\n",
       "          [0., 0., 1.,  ..., 0., 0., 0.],\n",
       "          [0., 0., 0.,  ..., 0., 0., 0.]],\n",
       "\n",
       "         ...,\n",
       "\n",
       "         [[0., 0., 0.,  ..., 0., 0., 0.],\n",
       "          [0., 0., 0.,  ..., 0., 0., 0.],\n",
       "          [0., 0., 0.,  ..., 0., 0., 0.],\n",
       "          ...,\n",
       "          [0., 0., 0.,  ..., 0., 0., 0.],\n",
       "          [0., 0., 0.,  ..., 0., 0., 0.],\n",
       "          [0., 0., 0.,  ..., 0., 0., 0.]],\n",
       "\n",
       "         [[0., 0., 0.,  ..., 0., 0., 0.],\n",
       "          [0., 0., 0.,  ..., 0., 0., 0.],\n",
       "          [0., 0., 0.,  ..., 0., 0., 0.],\n",
       "          ...,\n",
       "          [0., 0., 0.,  ..., 0., 0., 0.],\n",
       "          [0., 0., 0.,  ..., 0., 0., 0.],\n",
       "          [0., 0., 0.,  ..., 0., 0., 0.]],\n",
       "\n",
       "         [[0., 0., 0.,  ..., 0., 0., 0.],\n",
       "          [0., 0., 0.,  ..., 0., 0., 0.],\n",
       "          [0., 0., 0.,  ..., 0., 0., 0.],\n",
       "          ...,\n",
       "          [0., 0., 0.,  ..., 0., 0., 0.],\n",
       "          [0., 0., 0.,  ..., 0., 0., 0.],\n",
       "          [0., 0., 0.,  ..., 0., 0., 0.]]],\n",
       "\n",
       "\n",
       "        ...,\n",
       "\n",
       "\n",
       "        [[[0., 0., 0.,  ..., 0., 0., 0.],\n",
       "          [0., 0., 0.,  ..., 0., 0., 0.],\n",
       "          [0., 0., 0.,  ..., 0., 0., 0.],\n",
       "          ...,\n",
       "          [0., 0., 0.,  ..., 0., 0., 0.],\n",
       "          [0., 0., 0.,  ..., 0., 0., 0.],\n",
       "          [0., 0., 0.,  ..., 0., 0., 0.]],\n",
       "\n",
       "         [[0., 0., 0.,  ..., 0., 0., 0.],\n",
       "          [0., 0., 0.,  ..., 0., 0., 0.],\n",
       "          [0., 0., 0.,  ..., 0., 0., 0.],\n",
       "          ...,\n",
       "          [0., 0., 0.,  ..., 0., 0., 0.],\n",
       "          [0., 0., 0.,  ..., 0., 0., 0.],\n",
       "          [0., 0., 0.,  ..., 0., 0., 0.]],\n",
       "\n",
       "         [[0., 0., 0.,  ..., 0., 0., 0.],\n",
       "          [0., 0., 0.,  ..., 0., 0., 0.],\n",
       "          [0., 0., 0.,  ..., 0., 0., 0.],\n",
       "          ...,\n",
       "          [0., 0., 0.,  ..., 0., 0., 0.],\n",
       "          [0., 0., 0.,  ..., 0., 0., 0.],\n",
       "          [0., 0., 0.,  ..., 0., 0., 0.]],\n",
       "\n",
       "         ...,\n",
       "\n",
       "         [[0., 0., 0.,  ..., 0., 0., 0.],\n",
       "          [0., 0., 0.,  ..., 0., 0., 0.],\n",
       "          [0., 0., 0.,  ..., 0., 0., 0.],\n",
       "          ...,\n",
       "          [0., 0., 0.,  ..., 0., 0., 0.],\n",
       "          [0., 0., 0.,  ..., 0., 0., 0.],\n",
       "          [0., 0., 0.,  ..., 0., 0., 0.]],\n",
       "\n",
       "         [[0., 0., 0.,  ..., 0., 0., 0.],\n",
       "          [0., 0., 0.,  ..., 0., 0., 0.],\n",
       "          [0., 0., 0.,  ..., 0., 0., 0.],\n",
       "          ...,\n",
       "          [0., 0., 0.,  ..., 0., 0., 0.],\n",
       "          [0., 0., 0.,  ..., 0., 0., 0.],\n",
       "          [0., 0., 0.,  ..., 0., 0., 0.]],\n",
       "\n",
       "         [[0., 0., 0.,  ..., 0., 0., 0.],\n",
       "          [0., 0., 0.,  ..., 0., 0., 0.],\n",
       "          [0., 0., 0.,  ..., 0., 0., 0.],\n",
       "          ...,\n",
       "          [0., 0., 0.,  ..., 0., 0., 0.],\n",
       "          [0., 0., 0.,  ..., 0., 0., 0.],\n",
       "          [0., 0., 0.,  ..., 0., 0., 0.]]],\n",
       "\n",
       "\n",
       "        [[[0., 0., 0.,  ..., 0., 0., 0.],\n",
       "          [0., 0., 0.,  ..., 0., 0., 0.],\n",
       "          [0., 0., 0.,  ..., 0., 0., 0.],\n",
       "          ...,\n",
       "          [0., 0., 0.,  ..., 0., 0., 0.],\n",
       "          [0., 0., 0.,  ..., 0., 0., 0.],\n",
       "          [0., 0., 0.,  ..., 0., 0., 0.]],\n",
       "\n",
       "         [[0., 0., 0.,  ..., 0., 0., 0.],\n",
       "          [0., 0., 0.,  ..., 0., 0., 0.],\n",
       "          [0., 0., 0.,  ..., 0., 0., 0.],\n",
       "          ...,\n",
       "          [0., 0., 0.,  ..., 0., 0., 0.],\n",
       "          [0., 0., 0.,  ..., 0., 0., 0.],\n",
       "          [0., 0., 0.,  ..., 0., 0., 0.]],\n",
       "\n",
       "         [[0., 0., 0.,  ..., 0., 0., 0.],\n",
       "          [0., 0., 0.,  ..., 0., 0., 0.],\n",
       "          [0., 0., 0.,  ..., 0., 0., 0.],\n",
       "          ...,\n",
       "          [0., 0., 0.,  ..., 0., 0., 0.],\n",
       "          [0., 0., 0.,  ..., 0., 0., 0.],\n",
       "          [0., 0., 0.,  ..., 0., 0., 0.]],\n",
       "\n",
       "         ...,\n",
       "\n",
       "         [[0., 0., 0.,  ..., 0., 0., 0.],\n",
       "          [0., 0., 0.,  ..., 0., 0., 0.],\n",
       "          [0., 0., 0.,  ..., 0., 0., 0.],\n",
       "          ...,\n",
       "          [0., 0., 0.,  ..., 0., 0., 0.],\n",
       "          [0., 0., 0.,  ..., 0., 0., 0.],\n",
       "          [0., 0., 0.,  ..., 0., 0., 0.]],\n",
       "\n",
       "         [[0., 0., 0.,  ..., 0., 0., 0.],\n",
       "          [0., 0., 0.,  ..., 0., 0., 0.],\n",
       "          [0., 0., 0.,  ..., 0., 0., 0.],\n",
       "          ...,\n",
       "          [0., 0., 0.,  ..., 0., 0., 0.],\n",
       "          [0., 0., 0.,  ..., 0., 0., 0.],\n",
       "          [0., 0., 0.,  ..., 0., 0., 0.]],\n",
       "\n",
       "         [[0., 0., 0.,  ..., 0., 0., 0.],\n",
       "          [0., 0., 0.,  ..., 0., 0., 0.],\n",
       "          [0., 0., 0.,  ..., 0., 0., 0.],\n",
       "          ...,\n",
       "          [0., 0., 0.,  ..., 0., 0., 0.],\n",
       "          [0., 0., 0.,  ..., 0., 0., 0.],\n",
       "          [0., 0., 0.,  ..., 0., 0., 0.]]],\n",
       "\n",
       "\n",
       "        [[[0., 0., 0.,  ..., 0., 0., 0.],\n",
       "          [0., 0., 0.,  ..., 0., 0., 0.],\n",
       "          [0., 0., 0.,  ..., 0., 0., 0.],\n",
       "          ...,\n",
       "          [0., 0., 0.,  ..., 0., 0., 0.],\n",
       "          [0., 0., 0.,  ..., 0., 0., 0.],\n",
       "          [0., 0., 0.,  ..., 0., 0., 0.]],\n",
       "\n",
       "         [[0., 0., 0.,  ..., 0., 0., 0.],\n",
       "          [0., 0., 0.,  ..., 0., 0., 0.],\n",
       "          [0., 0., 0.,  ..., 0., 0., 0.],\n",
       "          ...,\n",
       "          [0., 0., 0.,  ..., 0., 0., 0.],\n",
       "          [0., 0., 0.,  ..., 0., 0., 0.],\n",
       "          [0., 0., 0.,  ..., 0., 0., 0.]],\n",
       "\n",
       "         [[0., 0., 0.,  ..., 0., 0., 0.],\n",
       "          [0., 0., 0.,  ..., 0., 0., 0.],\n",
       "          [0., 0., 0.,  ..., 0., 0., 0.],\n",
       "          ...,\n",
       "          [0., 0., 0.,  ..., 0., 0., 0.],\n",
       "          [0., 0., 0.,  ..., 0., 0., 0.],\n",
       "          [0., 0., 0.,  ..., 0., 0., 0.]],\n",
       "\n",
       "         ...,\n",
       "\n",
       "         [[0., 0., 0.,  ..., 0., 0., 0.],\n",
       "          [0., 0., 0.,  ..., 0., 0., 0.],\n",
       "          [0., 0., 0.,  ..., 0., 0., 0.],\n",
       "          ...,\n",
       "          [0., 0., 0.,  ..., 0., 0., 0.],\n",
       "          [0., 0., 0.,  ..., 0., 0., 0.],\n",
       "          [0., 0., 0.,  ..., 0., 0., 0.]],\n",
       "\n",
       "         [[0., 0., 0.,  ..., 0., 0., 0.],\n",
       "          [0., 0., 0.,  ..., 0., 0., 0.],\n",
       "          [0., 0., 0.,  ..., 0., 0., 0.],\n",
       "          ...,\n",
       "          [0., 0., 0.,  ..., 0., 0., 0.],\n",
       "          [0., 0., 0.,  ..., 0., 0., 0.],\n",
       "          [0., 0., 0.,  ..., 0., 0., 0.]],\n",
       "\n",
       "         [[0., 0., 0.,  ..., 0., 0., 0.],\n",
       "          [0., 0., 0.,  ..., 0., 0., 0.],\n",
       "          [0., 0., 0.,  ..., 0., 0., 0.],\n",
       "          ...,\n",
       "          [0., 0., 0.,  ..., 0., 0., 0.],\n",
       "          [0., 0., 0.,  ..., 0., 0., 0.],\n",
       "          [0., 0., 0.,  ..., 0., 0., 0.]]]], device='cuda:0')"
      ]
     },
     "execution_count": 144,
     "metadata": {},
     "output_type": "execute_result"
    }
   ],
   "execution_count": 144
  },
  {
   "metadata": {
    "ExecuteTime": {
     "end_time": "2024-06-03T11:00:59.160745Z",
     "start_time": "2024-06-03T11:00:58.472787Z"
    }
   },
   "cell_type": "code",
   "source": [
    "import gc\n",
    "\n",
    "torch.cuda.empty_cache()  # Clear cache\n",
    "gc.collect()  # Collect garbage"
   ],
   "id": "5970493a7e42880b",
   "outputs": [
    {
     "data": {
      "text/plain": [
       "4394"
      ]
     },
     "execution_count": 30,
     "metadata": {},
     "output_type": "execute_result"
    }
   ],
   "execution_count": 30
  },
  {
   "metadata": {
    "ExecuteTime": {
     "end_time": "2024-06-03T11:01:01.805946Z",
     "start_time": "2024-06-03T11:01:01.789185Z"
    }
   },
   "cell_type": "code",
   "source": [
    "model.to('cpu')\n",
    "# optimizer.to('cpu')\n",
    "\n",
    "del model\n",
    "del optimizer"
   ],
   "id": "9ce478c9f6d6db32",
   "outputs": [],
   "execution_count": 31
  },
  {
   "metadata": {},
   "cell_type": "code",
   "outputs": [],
   "execution_count": null,
   "source": "",
   "id": "fd798123e79a245a"
  }
 ],
 "metadata": {
  "kernelspec": {
   "display_name": "Python 3",
   "language": "python",
   "name": "python3"
  },
  "language_info": {
   "codemirror_mode": {
    "name": "ipython",
    "version": 2
   },
   "file_extension": ".py",
   "mimetype": "text/x-python",
   "name": "python",
   "nbconvert_exporter": "python",
   "pygments_lexer": "ipython2",
   "version": "2.7.6"
  }
 },
 "nbformat": 4,
 "nbformat_minor": 5
}
