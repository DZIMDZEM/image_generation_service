{
 "cells": [
  {
   "metadata": {
    "ExecuteTime": {
     "end_time": "2024-06-03T14:24:38.654105Z",
     "start_time": "2024-06-03T14:24:35.528519Z"
    }
   },
   "cell_type": "code",
   "source": [
    "import torch\n",
    "from torchvision import datasets"
   ],
   "id": "b10883462b527219",
   "outputs": [],
   "execution_count": 1
  },
  {
   "metadata": {
    "ExecuteTime": {
     "end_time": "2024-06-03T14:25:23.797675Z",
     "start_time": "2024-06-03T14:25:23.787834Z"
    }
   },
   "cell_type": "code",
   "source": [
    "# Path to your dataset\n",
    "dataset_path = r\"C:\\Users\\dzmit\\JOB\\3dnet\\train_sample\\images\""
   ],
   "id": "3f10b3d19164ed8c",
   "outputs": [],
   "execution_count": 4
  },
  {
   "metadata": {
    "ExecuteTime": {
     "end_time": "2024-06-03T14:25:24.186884Z",
     "start_time": "2024-06-03T14:25:24.166281Z"
    }
   },
   "cell_type": "code",
   "source": [
    "from torchvision import transforms\n",
    "\n",
    "transform = transforms.Compose([\n",
    "    transforms.Resize((256, 256)),  # Resize all images to 64x64\n",
    "    transforms.ToTensor(),\n",
    "    transforms.Normalize(mean=[0.5, 0.5, 0.5], std=[0.5, 0.5, 0.5])\n",
    "])\n",
    "\n",
    "# Create the dataset\n",
    "dataset = datasets.ImageFolder(root=dataset_path, transform=transform)"
   ],
   "id": "ebdc6330df45d27b",
   "outputs": [],
   "execution_count": 5
  },
  {
   "metadata": {
    "ExecuteTime": {
     "end_time": "2024-06-03T14:24:39.193514Z",
     "start_time": "2024-06-03T14:24:39.193514Z"
    }
   },
   "cell_type": "code",
   "source": "# dataset[0][0].shape",
   "id": "f2f2fa2a6eb066c3",
   "outputs": [],
   "execution_count": null
  },
  {
   "metadata": {
    "ExecuteTime": {
     "end_time": "2024-06-03T14:25:44.551662Z",
     "start_time": "2024-06-03T14:25:44.547463Z"
    }
   },
   "cell_type": "code",
   "source": [
    "# Path to your dataset\n",
    "targets_path = r'C:\\Users\\dzmit\\JOB\\3dnet\\train_sample\\scaled'"
   ],
   "id": "f647306a72e310b1",
   "outputs": [],
   "execution_count": 6
  },
  {
   "metadata": {
    "ExecuteTime": {
     "end_time": "2024-06-03T14:25:45.205332Z",
     "start_time": "2024-06-03T14:25:45.191333Z"
    }
   },
   "cell_type": "code",
   "source": [
    "import numpy as np\n",
    "\n",
    "\n",
    "# transform_target = transforms.Compose([\n",
    "#     # transforms.Resize((64, 64)),  # Resize all images to 64x64\n",
    "#     # transforms.ToTensor(),\n",
    "#     # transforms.ToFloat(),\n",
    "#     # transforms.Normalize(mean=[0.5, 0.5, 0.5], std=[0.5, 0.5, 0.5])\n",
    "# ])\n",
    "\n",
    "def npy_loader(path):\n",
    "\n",
    "     # Load the data from a .npy file\n",
    "    sample = np.load(path)\n",
    "\n",
    "    # Convert the numpy array from int to float32\n",
    "    sample = sample.astype(np.float32)\n",
    "\n",
    "    # Convert numpy array to a PyTorch tensor\n",
    "    sample = torch.from_numpy(sample)\n",
    "\n",
    "    # Optionally, normalize the data here if required\n",
    "    # sample = (sample - sample.mean()) / sample.std()\n",
    "\n",
    "    return sample\n",
    "\n",
    "    # sample = torch.from_numpy(np.load(path))\n",
    "    # return sample\n",
    "\n",
    "\n",
    "# Create the dataset\n",
    "targets = datasets.DatasetFolder(root=targets_path, loader=npy_loader, extensions=['.npy'])"
   ],
   "id": "c7d441238732c7c2",
   "outputs": [],
   "execution_count": 7
  },
  {
   "metadata": {
    "ExecuteTime": {
     "end_time": "2024-06-03T14:25:45.688386Z",
     "start_time": "2024-06-03T14:25:45.679620Z"
    }
   },
   "cell_type": "code",
   "source": [
    "# DataLoader\n",
    "batch_size = 1  # Batch size\n",
    "\n",
    "dataloader = torch.utils.data.DataLoader(dataset, batch_size=batch_size, shuffle=False)\n",
    "targetloader = torch.utils.data.DataLoader(targets, batch_size=batch_size, shuffle=False)"
   ],
   "id": "460c215c96b56ded",
   "outputs": [],
   "execution_count": 8
  },
  {
   "metadata": {
    "ExecuteTime": {
     "end_time": "2024-06-03T14:25:46.218359Z",
     "start_time": "2024-06-03T14:25:46.197957Z"
    }
   },
   "cell_type": "code",
   "source": [
    "import torch\n",
    "import torch.nn as nn\n",
    "import torch.nn.functional as F\n",
    "\n",
    "class To3Net(nn.Module):\n",
    "    def __init__(self):\n",
    "        super(To3Net, self).__init__()\n",
    "        self.encoder = nn.Sequential(\n",
    "            nn.Conv2d(3, 256, kernel_size=5, stride=1, padding=2),\n",
    "            nn.ReLU(),\n",
    "            nn.MaxPool2d(2),  # Output: 64 x 128 x 128\n",
    "            nn.Conv2d(256, 128, kernel_size=3, stride=1, padding=1),\n",
    "            nn.ReLU(),\n",
    "            nn.MaxPool2d(2),  # Output: 128 x 64 x 64\n",
    "            nn.Conv2d(128, 256, kernel_size=3, stride=1, padding=1),\n",
    "            nn.ReLU(),\n",
    "        )\n",
    "\n",
    "        # Adjusting to use Conv3d\n",
    "        self.decoder = nn.Sequential(\n",
    "            nn.Conv3d(1, 128, kernel_size=(5, 4, 4), stride=(3, 2, 2), padding=(0, 2, 2)),\n",
    "            nn.ReLU(),\n",
    "            nn.Conv3d(128, 128, kernel_size=(4, 4, 4), stride=(2, 1, 1), padding=(0, 1, 1)),\n",
    "            nn.ReLU(),\n",
    "            nn.Conv3d(128, 64, kernel_size=(4, 2, 2), stride=(2, 2, 2), padding=(0, 1, 1)),\n",
    "            nn.ReLU(),\n",
    "            nn.Conv3d(64, 1, kernel_size=(4, 2, 2), stride=(1, 1, 1), padding=(0, 0, 0)),\n",
    "            nn.Sigmoid()  # Binary output via sigmoid activation\n",
    "        )\n",
    "\n",
    "    def forward(self, x):\n",
    "        x = self.encoder(x)\n",
    "        x = x.view(x.size(0), 1, 256, 64, 64).permute(0, 1, 2, 3, 4)  # No need for change, this reshaping was correct\n",
    "        x = self.decoder(x)\n",
    "\n",
    "        return x\n"
   ],
   "id": "9cd0e609b0d9e763",
   "outputs": [],
   "execution_count": 9
  },
  {
   "metadata": {
    "ExecuteTime": {
     "end_time": "2024-06-03T14:25:46.656055Z",
     "start_time": "2024-06-03T14:25:46.646066Z"
    }
   },
   "cell_type": "code",
   "source": "# Train",
   "id": "5742188367db30e1",
   "outputs": [],
   "execution_count": 10
  },
  {
   "metadata": {
    "ExecuteTime": {
     "end_time": "2024-06-03T14:25:47.025716Z",
     "start_time": "2024-06-03T14:25:46.991483Z"
    }
   },
   "cell_type": "code",
   "source": [
    "# Check if CUDA is available, else use CPU\n",
    "device = torch.device(\"cuda\" if torch.cuda.is_available() else \"cpu\")\n",
    "print(f'Using device: {device}')"
   ],
   "id": "a2c6b74b77c58978",
   "outputs": [
    {
     "name": "stdout",
     "output_type": "stream",
     "text": [
      "Using device: cuda\n"
     ]
    }
   ],
   "execution_count": 11
  },
  {
   "metadata": {
    "ExecuteTime": {
     "end_time": "2024-06-03T14:25:47.538856Z",
     "start_time": "2024-06-03T14:25:47.525859Z"
    }
   },
   "cell_type": "code",
   "source": "torch.cuda.is_available()",
   "id": "e193b77c5f2fc5b8",
   "outputs": [
    {
     "data": {
      "text/plain": [
       "True"
      ]
     },
     "execution_count": 12,
     "metadata": {},
     "output_type": "execute_result"
    }
   ],
   "execution_count": 12
  },
  {
   "metadata": {
    "ExecuteTime": {
     "end_time": "2024-06-03T14:25:48.010351Z",
     "start_time": "2024-06-03T14:25:48.002865Z"
    }
   },
   "cell_type": "code",
   "source": "# Load the model",
   "id": "bda01fcfabf0d40c",
   "outputs": [],
   "execution_count": 13
  },
  {
   "metadata": {
    "ExecuteTime": {
     "end_time": "2024-06-03T14:25:48.837021Z",
     "start_time": "2024-06-03T14:25:48.816808Z"
    }
   },
   "cell_type": "code",
   "source": [
    "# del model\n",
    "# del optimizer"
   ],
   "id": "e62414826c4f0d05",
   "outputs": [],
   "execution_count": 14
  },
  {
   "metadata": {
    "ExecuteTime": {
     "end_time": "2024-06-03T14:25:49.103741Z",
     "start_time": "2024-06-03T14:25:49.096740Z"
    }
   },
   "cell_type": "code",
   "source": [
    "# del dataloader\n",
    "# del targetloader"
   ],
   "id": "8868f2c2993e808e",
   "outputs": [],
   "execution_count": 15
  },
  {
   "metadata": {
    "ExecuteTime": {
     "end_time": "2024-06-03T14:25:49.691937Z",
     "start_time": "2024-06-03T14:25:49.562529Z"
    }
   },
   "cell_type": "code",
   "source": [
    "model = To3Net().to(device)\n",
    "# print(model)"
   ],
   "id": "47e95251fca331f6",
   "outputs": [],
   "execution_count": 16
  },
  {
   "metadata": {
    "ExecuteTime": {
     "end_time": "2024-06-03T14:25:50.722147Z",
     "start_time": "2024-06-03T14:25:50.717027Z"
    }
   },
   "cell_type": "code",
   "source": "# model(dataset[0][0].unsqueeze(0).to(device)).shape",
   "id": "d2a6e9641685b762",
   "outputs": [],
   "execution_count": 17
  },
  {
   "metadata": {
    "ExecuteTime": {
     "end_time": "2024-06-03T14:25:51.047533Z",
     "start_time": "2024-06-03T14:25:51.030179Z"
    }
   },
   "cell_type": "code",
   "source": "# dataset[0][0].unsqueeze(0).to('cpu')",
   "id": "ab0cda4efdfc1ca7",
   "outputs": [],
   "execution_count": 18
  },
  {
   "metadata": {
    "ExecuteTime": {
     "end_time": "2024-06-03T14:25:54.620849Z",
     "start_time": "2024-06-03T14:25:52.956562Z"
    }
   },
   "cell_type": "code",
   "source": [
    "import trimesh\n",
    "import matplotlib.pyplot as plt\n",
    "\n",
    "\n",
    "def check_output(generated_object, input_image, epoch=0, batch=0):\n",
    "    generated_object = generated_object.to('cpu').clone().detach() # Move to CPU and detach from the computation graph\n",
    "    generated_object = (generated_object.numpy() > np.median(generated_object.numpy())).astype(np.uint8) # Convert to numpy array\n",
    "    print(generated_object.sum())\n",
    "    generated_object[0][0][0] = 1\n",
    "\n",
    "    # Save the mesh\n",
    "    voxel_mesh = trimesh.voxel.ops.matrix_to_marching_cubes(generated_object)\n",
    "    voxel_mesh.export(f'output/check_generated_object_epoch_{epoch}_batch_{batch}.obj')\n",
    "\n",
    "     # Normalize the image to [0, 1] if it's not already\n",
    "    image = input_image.to('cpu').clone().detach().numpy().transpose(1, 2, 0)\n",
    "    image = (image + 1) / 2  # Assuming that the output is in the range [-1, 1]\n",
    "    image = image.clip(0, 1)  # Ensure the values are within [0, 1]\n",
    "\n",
    "    plt.imshow(image)\n",
    "    plt.savefig(f'output/check_generated_image_epoch_{epoch}_batch_{batch}.png')\n",
    "\n",
    "\n",
    "def check_normal_output(generated_object, input_image, threshold=0.5, epoch=0, batch=0):\n",
    "    generated_object = generated_object.to('cpu').clone().detach() # Move to CPU and detach from the computation graph\n",
    "    generated_object = (generated_object.numpy() > threshold).astype(np.uint8) # Convert to numpy array\n",
    "    print(generated_object.sum())\n",
    "    generated_object[0][0][0] = 1\n",
    "\n",
    "    # Save the mesh\n",
    "    voxel_mesh = trimesh.voxel.ops.matrix_to_marching_cubes(generated_object)\n",
    "    voxel_mesh.export(f'output/check_generated_object_epoch_{epoch}_batch_{batch}.obj')\n",
    "\n",
    "     # Normalize the image to [0, 1] if it's not already\n",
    "    image = input_image.to('cpu').clone().detach().numpy().transpose(1, 2, 0)\n",
    "    image = (image + 1) / 2  # Assuming that the output is in the range [-1, 1]\n",
    "    image = image.clip(0, 1)  # Ensure the values are within [0, 1]\n",
    "\n",
    "    plt.imshow(image)\n",
    "    plt.savefig(f'output/check_generated_image_epoch_{epoch}_batch_{batch}.png')\n"
   ],
   "id": "4c0455a8c9cc8289",
   "outputs": [],
   "execution_count": 19
  },
  {
   "metadata": {
    "ExecuteTime": {
     "end_time": "2024-06-03T14:25:54.636588Z",
     "start_time": "2024-06-03T14:25:54.621869Z"
    }
   },
   "cell_type": "code",
   "source": [
    "# Optimizers\n",
    "optimizer = torch.optim.Adam(model.parameters(), lr=0.002, betas=(0.5, 0.999))\n",
    "# optimizer_D = torch.optim.Adam(discriminator.parameters(), lr=0.0002, betas=(0.5, 0.999))\n",
    "\n",
    "# Loss function\n",
    "criterion = nn.BCELoss()"
   ],
   "id": "79e3ca6230018c26",
   "outputs": [],
   "execution_count": 20
  },
  {
   "metadata": {
    "ExecuteTime": {
     "end_time": "2024-06-03T14:25:54.651941Z",
     "start_time": "2024-06-03T14:25:54.638597Z"
    }
   },
   "cell_type": "code",
   "source": [
    "# # # Load the checkpoint\n",
    "# checkpoint = torch.load('GAN_199.pth')\n",
    "#\n",
    "# # Assuming the generator and discriminator are already instantiated as per the saved model architecture\n",
    "# generator.load_state_dict(checkpoint['generator_state_dict'])\n",
    "# discriminator.load_state_dict(checkpoint['discriminator_state_dict'])\n",
    "#\n",
    "# # Assuming the optimizers are already instantiated with the parameters of their respective models\n",
    "# optimizer_G.load_state_dict(checkpoint['optimizer_G_state_dict'])\n",
    "# optimizer_D.load_state_dict(checkpoint['optimizer_D_state_dict'])\n",
    "#\n",
    "# # If you saved the epoch number, you can also load this to know where to resume training\n",
    "# epoch = checkpoint['epoch']\n"
   ],
   "id": "45b9a74ae7638170",
   "outputs": [],
   "execution_count": 21
  },
  {
   "metadata": {
    "ExecuteTime": {
     "end_time": "2024-06-03T14:26:23.479506Z",
     "start_time": "2024-06-03T14:26:23.164765Z"
    }
   },
   "cell_type": "code",
   "source": [
    "for i, ((images, _), (objects, _)) in enumerate(zip(dataloader, targetloader)):\n",
    "    check_output(objects[0], images[0], epoch=2000, batch=2000)\n",
    "    break"
   ],
   "id": "80c151c9ac93b78a",
   "outputs": [
    {
     "name": "stdout",
     "output_type": "stream",
     "text": [
      "542\n"
     ]
    },
    {
     "data": {
      "text/plain": [
       "<Figure size 640x480 with 1 Axes>"
      ],
      "image/png": "[encoded data removed]"
     },
     "metadata": {},
     "output_type": "display_data"
    }
   ],
   "execution_count": 23
  },
  {
   "metadata": {
    "ExecuteTime": {
     "end_time": "2024-06-03T14:26:36.867875Z",
     "start_time": "2024-06-03T14:26:36.856874Z"
    }
   },
   "cell_type": "code",
   "source": "num_epochs = 300",
   "id": "11a1971908ad53d7",
   "outputs": [],
   "execution_count": 24
  },
  {
   "metadata": {
    "ExecuteTime": {
     "end_time": "2024-06-03T14:48:54.020970Z",
     "start_time": "2024-06-03T14:47:18.253452Z"
    }
   },
   "cell_type": "code",
   "source": [
    "for epoch in range(num_epochs):\n",
    "    try:\n",
    "        for i, ((images, _), (objects, _)) in enumerate(zip(dataloader, targetloader)):\n",
    "            # Move data to the appropriate device\n",
    "            images = images.to(device)\n",
    "            objects = objects.to(device)\n",
    "\n",
    "            ### Train Generator\n",
    "            optimizer.zero_grad()\n",
    "\n",
    "            output = model(images).squeeze(1)\n",
    "            loss = criterion(output, objects)\n",
    "            loss.backward()\n",
    "\n",
    "            optimizer.step()\n",
    "\n",
    "            if (epoch + 1) % 4 == 0:\n",
    "                print(f'Epoch [{epoch + 1}/{num_epochs}], Step [{i + 1}/{len(dataloader)}], '\n",
    "                      f'Loss: {loss.item():.4f}')\n",
    "\n",
    "            if (epoch + 1) % 10 == 0:\n",
    "                # if (i + 1) % 5 == 0:\n",
    "                try:\n",
    "                    check_normal_output(output[0], images[0], epoch=epoch, batch=i)\n",
    "                except Exception:\n",
    "                    pass\n",
    "\n",
    "\n",
    "        #     # check_output(fake_images[0], epoch)\n",
    "        #     generate_and_plot_images(25, epoch=epoch)\n",
    "\n",
    "        if (epoch + 1) % 90 == 0:\n",
    "            checkpoint = {\n",
    "                'model_state_dict': model.state_dict(),\n",
    "                'optimizer_state_dict': optimizer.state_dict(),\n",
    "                'epoch': epoch  # Optional, if you want to also save the epoch number\n",
    "            }\n",
    "\n",
    "            torch.save(checkpoint, f'GAN_ass_{epoch}.pth')\n",
    "\n",
    "    except OSError:\n",
    "        print(f\"An error occurred while processing the image. Epoch: {epoch}, batch: {i}\")\n",
    "        continue\n"
   ],
   "id": "6701c6aa62fd5790",
   "outputs": [
    {
     "name": "stdout",
     "output_type": "stream",
     "text": [
      "Epoch [4/300], Step [1/1], Loss: 0.3543\n",
      "Epoch [8/300], Step [1/1], Loss: 0.3523\n",
      "0\n",
      "Epoch [12/300], Step [1/1], Loss: 0.3515\n",
      "Epoch [16/300], Step [1/1], Loss: 0.3506\n",
      "Epoch [20/300], Step [1/1], Loss: 0.3498\n",
      "0\n",
      "Epoch [24/300], Step [1/1], Loss: 0.3547\n",
      "Epoch [28/300], Step [1/1], Loss: 0.3542\n",
      "0\n",
      "Epoch [32/300], Step [1/1], Loss: 0.3465\n",
      "Epoch [36/300], Step [1/1], Loss: 0.3447\n",
      "Epoch [40/300], Step [1/1], Loss: 0.3434\n",
      "0\n",
      "Epoch [44/300], Step [1/1], Loss: 0.3456\n",
      "Epoch [48/300], Step [1/1], Loss: 0.3418\n",
      "0\n",
      "Epoch [52/300], Step [1/1], Loss: 0.3400\n",
      "Epoch [56/300], Step [1/1], Loss: 0.3418\n",
      "Epoch [60/300], Step [1/1], Loss: 0.3368\n",
      "0\n",
      "Epoch [64/300], Step [1/1], Loss: 0.3333\n",
      "Epoch [68/300], Step [1/1], Loss: 0.3537\n",
      "0\n",
      "Epoch [72/300], Step [1/1], Loss: 0.3329\n",
      "Epoch [76/300], Step [1/1], Loss: 0.3287\n",
      "Epoch [80/300], Step [1/1], Loss: 0.3339\n",
      "0\n",
      "Epoch [84/300], Step [1/1], Loss: 0.3242\n",
      "Epoch [88/300], Step [1/1], Loss: 0.3209\n",
      "17\n",
      "Epoch [92/300], Step [1/1], Loss: 0.3176\n",
      "Epoch [96/300], Step [1/1], Loss: 0.3183\n",
      "Epoch [100/300], Step [1/1], Loss: 0.3221\n",
      "70\n",
      "Epoch [104/300], Step [1/1], Loss: 0.3154\n",
      "Epoch [108/300], Step [1/1], Loss: 0.3127\n",
      "79\n",
      "Epoch [112/300], Step [1/1], Loss: 0.3108\n",
      "Epoch [116/300], Step [1/1], Loss: 0.3117\n",
      "Epoch [120/300], Step [1/1], Loss: 0.3112\n",
      "43\n",
      "Epoch [124/300], Step [1/1], Loss: 0.3080\n",
      "Epoch [128/300], Step [1/1], Loss: 0.3074\n",
      "103\n",
      "Epoch [132/300], Step [1/1], Loss: 0.3075\n",
      "Epoch [136/300], Step [1/1], Loss: 0.3068\n",
      "Epoch [140/300], Step [1/1], Loss: 0.3064\n",
      "128\n",
      "Epoch [144/300], Step [1/1], Loss: 0.3061\n",
      "Epoch [148/300], Step [1/1], Loss: 0.3064\n",
      "90\n",
      "Epoch [152/300], Step [1/1], Loss: 0.3125\n",
      "Epoch [156/300], Step [1/1], Loss: 0.3061\n",
      "Epoch [160/300], Step [1/1], Loss: 0.3056\n",
      "140\n",
      "Epoch [164/300], Step [1/1], Loss: 0.3060\n",
      "Epoch [168/300], Step [1/1], Loss: 0.3061\n",
      "152\n",
      "Epoch [172/300], Step [1/1], Loss: 0.3052\n",
      "Epoch [176/300], Step [1/1], Loss: 0.3060\n",
      "Epoch [180/300], Step [1/1], Loss: 0.3054\n",
      "164\n",
      "Epoch [184/300], Step [1/1], Loss: 0.3057\n",
      "Epoch [188/300], Step [1/1], Loss: 0.3179\n",
      "92\n",
      "Epoch [192/300], Step [1/1], Loss: 0.3072\n",
      "Epoch [196/300], Step [1/1], Loss: 0.3054\n",
      "Epoch [200/300], Step [1/1], Loss: 0.3053\n",
      "93\n",
      "Epoch [204/300], Step [1/1], Loss: 0.3047\n",
      "Epoch [208/300], Step [1/1], Loss: 0.3046\n",
      "117\n",
      "Epoch [212/300], Step [1/1], Loss: 0.3049\n",
      "Epoch [216/300], Step [1/1], Loss: 0.3049\n",
      "Epoch [220/300], Step [1/1], Loss: 0.3044\n",
      "117\n",
      "Epoch [224/300], Step [1/1], Loss: 0.3042\n",
      "Epoch [228/300], Step [1/1], Loss: 0.3044\n",
      "93\n",
      "Epoch [232/300], Step [1/1], Loss: 0.3050\n",
      "Epoch [236/300], Step [1/1], Loss: 0.3043\n",
      "Epoch [240/300], Step [1/1], Loss: 0.3039\n",
      "129\n",
      "Epoch [244/300], Step [1/1], Loss: 0.3038\n",
      "Epoch [248/300], Step [1/1], Loss: 0.3039\n",
      "81\n",
      "Epoch [252/300], Step [1/1], Loss: 0.3049\n",
      "Epoch [256/300], Step [1/1], Loss: 0.3047\n",
      "Epoch [260/300], Step [1/1], Loss: 0.3035\n",
      "105\n",
      "Epoch [264/300], Step [1/1], Loss: 0.3033\n",
      "Epoch [268/300], Step [1/1], Loss: 0.3031\n",
      "153\n",
      "Epoch [272/300], Step [1/1], Loss: 0.3031\n",
      "Epoch [276/300], Step [1/1], Loss: 0.3057\n",
      "Epoch [280/300], Step [1/1], Loss: 0.3055\n",
      "68\n",
      "Epoch [284/300], Step [1/1], Loss: 0.3034\n",
      "Epoch [288/300], Step [1/1], Loss: 0.3029\n",
      "153\n",
      "Epoch [292/300], Step [1/1], Loss: 0.3028\n",
      "Epoch [296/300], Step [1/1], Loss: 0.3027\n",
      "Epoch [300/300], Step [1/1], Loss: 0.3029\n",
      "164\n"
     ]
    },
    {
     "data": {
      "text/plain": [
       "<Figure size 640x480 with 1 Axes>"
      ],
      "image/png": "[encoded data removed]"
     },
     "metadata": {},
     "output_type": "display_data"
    }
   ],
   "execution_count": 36
  },
  {
   "metadata": {
    "ExecuteTime": {
     "end_time": "2024-06-03T14:30:20.004201Z",
     "start_time": "2024-06-03T14:30:19.689748Z"
    }
   },
   "cell_type": "code",
   "source": "check_normal_output(output[0], images[0], threshold=float(output.median()), epoch=0, batch=0)",
   "id": "906d099a5cde0383",
   "outputs": [
    {
     "name": "stdout",
     "output_type": "stream",
     "text": [
      "2001\n"
     ]
    },
    {
     "data": {
      "text/plain": [
       "<Figure size 640x480 with 1 Axes>"
      ],
      "image/png": "[encoded data removed]"
     },
     "metadata": {},
     "output_type": "display_data"
    }
   ],
   "execution_count": 35
  },
  {
   "metadata": {
    "ExecuteTime": {
     "end_time": "2024-05-10T23:32:56.634146Z",
     "start_time": "2024-05-10T23:32:56.391184Z"
    }
   },
   "cell_type": "code",
   "source": "check_normal_output(output[0], images[0], epoch=epoch + 1, batch=i + 1)",
   "id": "d1b27f06d83a1db6",
   "outputs": [
    {
     "name": "stdout",
     "output_type": "stream",
     "text": [
      "491\n"
     ]
    },
    {
     "data": {
      "text/plain": [
       "<Figure size 640x480 with 1 Axes>"
      ],
      "image/png": "[encoded data removed]"
     },
     "metadata": {},
     "output_type": "display_data"
    }
   ],
   "execution_count": 68
  },
  {
   "metadata": {
    "ExecuteTime": {
     "end_time": "2024-05-11T12:16:18.607968Z",
     "start_time": "2024-05-11T12:16:18.249819Z"
    }
   },
   "cell_type": "code",
   "source": "check_output(output[0], images[0], epoch=epoch, batch=i)",
   "id": "38ef1e6b83f1946e",
   "outputs": [
    {
     "name": "stdout",
     "output_type": "stream",
     "text": [
      "2048\n"
     ]
    },
    {
     "data": {
      "text/plain": [
       "<Figure size 640x480 with 1 Axes>"
      ],
      "image/png": "[encoded data removed]"
     },
     "metadata": {},
     "output_type": "display_data"
    }
   ],
   "execution_count": 30
  },
  {
   "metadata": {
    "ExecuteTime": {
     "end_time": "2024-05-11T12:17:08.491619Z",
     "start_time": "2024-05-11T12:17:07.983471Z"
    }
   },
   "cell_type": "code",
   "source": "check_normal_output(model(images).squeeze(1)[0], images[0], threshold=0.5, epoch=1000, batch=1000)",
   "id": "6f461099c82f4a2f",
   "outputs": [
    {
     "name": "stdout",
     "output_type": "stream",
     "text": [
      "519\n"
     ]
    },
    {
     "data": {
      "text/plain": [
       "<Figure size 640x480 with 1 Axes>"
      ],
      "image/png": "[encoded data removed]"
     },
     "metadata": {},
     "output_type": "display_data"
    }
   ],
   "execution_count": 34
  },
  {
   "metadata": {
    "ExecuteTime": {
     "end_time": "2024-05-10T14:11:03.538432Z",
     "start_time": "2024-05-10T14:11:03.526045Z"
    }
   },
   "cell_type": "code",
   "source": "model(images[1].unsqueeze(0).to(device)).shape",
   "id": "2fdb91ffdaec8364",
   "outputs": [
    {
     "data": {
      "text/plain": [
       "torch.Size([1, 1, 16, 16, 16])"
      ]
     },
     "execution_count": 34,
     "metadata": {},
     "output_type": "execute_result"
    }
   ],
   "execution_count": 34
  },
  {
   "metadata": {
    "ExecuteTime": {
     "end_time": "2024-05-10T01:05:20.103203Z",
     "start_time": "2024-05-10T01:05:19.932650Z"
    }
   },
   "cell_type": "code",
   "source": "check_output(output[4], images[4], epoch=0)",
   "id": "fc5f1e58d3dff28d",
   "outputs": [
    {
     "data": {
      "text/plain": [
       "<Figure size 640x480 with 1 Axes>"
      ],
      "image/png": "[encoded data removed]"
     },
     "metadata": {},
     "output_type": "display_data"
    }
   ],
   "execution_count": 122
  },
  {
   "metadata": {
    "ExecuteTime": {
     "end_time": "2024-05-10T01:05:20.414592Z",
     "start_time": "2024-05-10T01:05:20.385038Z"
    }
   },
   "cell_type": "code",
   "source": "output[4]",
   "id": "17f90926de44140",
   "outputs": [
    {
     "data": {
      "text/plain": [
       "tensor([[[8.8006e-02, 2.0144e-01, 2.9009e-01,  ..., 8.9391e-02,\n",
       "          7.4145e-02, 3.3514e-02],\n",
       "         [1.3633e-01, 2.3901e-01, 2.7001e-01,  ..., 7.4983e-02,\n",
       "          7.2419e-02, 3.8240e-02],\n",
       "         [1.6877e-01, 2.6712e-01, 2.8253e-01,  ..., 6.7611e-02,\n",
       "          9.0792e-02, 3.1234e-02],\n",
       "         ...,\n",
       "         [3.1964e-02, 5.0868e-02, 5.6639e-02,  ..., 3.3566e-04,\n",
       "          1.1422e-03, 3.9571e-04],\n",
       "         [2.1923e-02, 2.8927e-02, 4.5737e-02,  ..., 2.8116e-04,\n",
       "          5.6690e-03, 5.9631e-03],\n",
       "         [5.7261e-03, 1.4686e-02, 1.9347e-02,  ..., 2.8720e-04,\n",
       "          4.6226e-03, 5.4296e-03]],\n",
       "\n",
       "        [[9.8284e-02, 1.8116e-01, 2.5352e-01,  ..., 1.0125e-01,\n",
       "          7.2335e-02, 3.6770e-02],\n",
       "         [1.5201e-01, 2.3681e-01, 3.1123e-01,  ..., 9.2363e-02,\n",
       "          7.7043e-02, 4.3951e-02],\n",
       "         [1.8236e-01, 3.0570e-01, 2.8118e-01,  ..., 5.4563e-02,\n",
       "          7.2248e-02, 3.4171e-02],\n",
       "         ...,\n",
       "         [2.5424e-02, 4.2590e-02, 6.6943e-02,  ..., 3.1306e-04,\n",
       "          6.4491e-04, 8.9639e-05],\n",
       "         [1.8536e-02, 3.7929e-02, 4.7517e-02,  ..., 1.4510e-04,\n",
       "          4.0019e-03, 4.9133e-03],\n",
       "         [6.1722e-03, 2.5516e-02, 1.3822e-02,  ..., 7.5239e-05,\n",
       "          4.4656e-03, 2.1932e-03]],\n",
       "\n",
       "        [[8.8006e-02, 2.0144e-01, 2.9009e-01,  ..., 8.9391e-02,\n",
       "          7.4145e-02, 3.3514e-02],\n",
       "         [1.3633e-01, 2.3901e-01, 2.7001e-01,  ..., 7.4983e-02,\n",
       "          7.2419e-02, 3.8240e-02],\n",
       "         [1.6877e-01, 2.6712e-01, 2.8253e-01,  ..., 6.7611e-02,\n",
       "          9.0792e-02, 3.1234e-02],\n",
       "         ...,\n",
       "         [3.1964e-02, 5.0868e-02, 5.6639e-02,  ..., 3.3566e-04,\n",
       "          1.1422e-03, 3.9571e-04],\n",
       "         [2.1923e-02, 2.8927e-02, 4.5737e-02,  ..., 2.8116e-04,\n",
       "          5.6690e-03, 5.9631e-03],\n",
       "         [5.7261e-03, 1.4686e-02, 1.9347e-02,  ..., 2.8720e-04,\n",
       "          4.6226e-03, 5.4296e-03]],\n",
       "\n",
       "        ...,\n",
       "\n",
       "        [[9.8284e-02, 1.8116e-01, 2.5352e-01,  ..., 1.0125e-01,\n",
       "          7.2335e-02, 3.6770e-02],\n",
       "         [1.5201e-01, 2.3681e-01, 3.1123e-01,  ..., 9.2363e-02,\n",
       "          7.7043e-02, 4.3951e-02],\n",
       "         [1.8236e-01, 3.0570e-01, 2.8118e-01,  ..., 5.4563e-02,\n",
       "          7.2248e-02, 3.4171e-02],\n",
       "         ...,\n",
       "         [2.5424e-02, 4.2590e-02, 6.6943e-02,  ..., 3.1306e-04,\n",
       "          6.4491e-04, 8.9639e-05],\n",
       "         [1.8536e-02, 3.7929e-02, 4.7517e-02,  ..., 1.4510e-04,\n",
       "          4.0019e-03, 4.9133e-03],\n",
       "         [6.1722e-03, 2.5516e-02, 1.3822e-02,  ..., 7.5239e-05,\n",
       "          4.4656e-03, 2.1932e-03]],\n",
       "\n",
       "        [[8.8006e-02, 2.0144e-01, 2.9009e-01,  ..., 8.9391e-02,\n",
       "          7.4145e-02, 3.3514e-02],\n",
       "         [1.3633e-01, 2.3901e-01, 2.7001e-01,  ..., 7.4983e-02,\n",
       "          7.2419e-02, 3.8240e-02],\n",
       "         [1.6877e-01, 2.6712e-01, 2.8253e-01,  ..., 6.7611e-02,\n",
       "          9.0792e-02, 3.1234e-02],\n",
       "         ...,\n",
       "         [3.1964e-02, 5.0868e-02, 5.6639e-02,  ..., 3.3566e-04,\n",
       "          1.1422e-03, 3.9571e-04],\n",
       "         [2.1923e-02, 2.8927e-02, 4.5737e-02,  ..., 2.8116e-04,\n",
       "          5.6690e-03, 5.9631e-03],\n",
       "         [5.7261e-03, 1.4686e-02, 1.9347e-02,  ..., 2.8720e-04,\n",
       "          4.6226e-03, 5.4296e-03]],\n",
       "\n",
       "        [[9.8284e-02, 1.8116e-01, 2.5352e-01,  ..., 1.0125e-01,\n",
       "          7.2335e-02, 3.6770e-02],\n",
       "         [1.5201e-01, 2.3681e-01, 3.1123e-01,  ..., 9.2363e-02,\n",
       "          7.7043e-02, 4.3951e-02],\n",
       "         [1.8236e-01, 3.0570e-01, 2.8118e-01,  ..., 5.4563e-02,\n",
       "          7.2248e-02, 3.4171e-02],\n",
       "         ...,\n",
       "         [2.5424e-02, 4.2590e-02, 6.6943e-02,  ..., 3.1306e-04,\n",
       "          6.4491e-04, 8.9639e-05],\n",
       "         [1.8536e-02, 3.7929e-02, 4.7517e-02,  ..., 1.4510e-04,\n",
       "          4.0019e-03, 4.9133e-03],\n",
       "         [6.1722e-03, 2.5516e-02, 1.3822e-02,  ..., 7.5239e-05,\n",
       "          4.4656e-03, 2.1932e-03]]], device='cuda:0',\n",
       "       grad_fn=<SelectBackward0>)"
      ]
     },
     "execution_count": 123,
     "metadata": {},
     "output_type": "execute_result"
    }
   ],
   "execution_count": 123
  },
  {
   "metadata": {
    "ExecuteTime": {
     "end_time": "2024-05-10T00:05:52.014910Z",
     "start_time": "2024-05-10T00:05:51.959799Z"
    }
   },
   "cell_type": "code",
   "source": "objects[0][0]",
   "id": "a0a2cfa72d326eea",
   "outputs": [
    {
     "data": {
      "text/plain": [
       "tensor([[[[0., 0., 0.,  ..., 0., 0., 0.],\n",
       "          [0., 0., 0.,  ..., 0., 0., 0.],\n",
       "          [0., 0., 1.,  ..., 0., 0., 0.],\n",
       "          ...,\n",
       "          [1., 1., 1.,  ..., 0., 0., 0.],\n",
       "          [0., 0., 1.,  ..., 0., 0., 0.],\n",
       "          [0., 0., 0.,  ..., 0., 0., 0.]],\n",
       "\n",
       "         [[0., 0., 0.,  ..., 0., 0., 0.],\n",
       "          [0., 0., 0.,  ..., 0., 0., 0.],\n",
       "          [0., 0., 0.,  ..., 0., 0., 0.],\n",
       "          ...,\n",
       "          [0., 0., 0.,  ..., 0., 0., 0.],\n",
       "          [0., 0., 0.,  ..., 0., 0., 0.],\n",
       "          [0., 0., 0.,  ..., 0., 0., 0.]],\n",
       "\n",
       "         [[0., 0., 0.,  ..., 0., 0., 0.],\n",
       "          [0., 0., 0.,  ..., 0., 0., 0.],\n",
       "          [0., 0., 0.,  ..., 0., 0., 0.],\n",
       "          ...,\n",
       "          [0., 0., 0.,  ..., 0., 0., 0.],\n",
       "          [0., 0., 0.,  ..., 0., 0., 0.],\n",
       "          [0., 0., 0.,  ..., 0., 0., 0.]],\n",
       "\n",
       "         ...,\n",
       "\n",
       "         [[0., 0., 0.,  ..., 0., 0., 0.],\n",
       "          [0., 0., 0.,  ..., 0., 0., 0.],\n",
       "          [0., 0., 0.,  ..., 0., 0., 0.],\n",
       "          ...,\n",
       "          [0., 0., 0.,  ..., 0., 0., 0.],\n",
       "          [0., 0., 0.,  ..., 0., 0., 0.],\n",
       "          [0., 0., 0.,  ..., 0., 0., 0.]],\n",
       "\n",
       "         [[0., 0., 0.,  ..., 0., 0., 0.],\n",
       "          [0., 0., 0.,  ..., 0., 0., 0.],\n",
       "          [0., 0., 0.,  ..., 0., 0., 0.],\n",
       "          ...,\n",
       "          [0., 0., 0.,  ..., 0., 0., 0.],\n",
       "          [0., 0., 0.,  ..., 0., 0., 0.],\n",
       "          [0., 0., 0.,  ..., 0., 0., 0.]],\n",
       "\n",
       "         [[0., 0., 0.,  ..., 0., 0., 0.],\n",
       "          [0., 0., 0.,  ..., 0., 0., 0.],\n",
       "          [0., 0., 0.,  ..., 0., 0., 0.],\n",
       "          ...,\n",
       "          [0., 0., 0.,  ..., 0., 0., 0.],\n",
       "          [0., 0., 0.,  ..., 0., 0., 0.],\n",
       "          [0., 0., 0.,  ..., 0., 0., 0.]]],\n",
       "\n",
       "\n",
       "        [[[0., 0., 0.,  ..., 0., 0., 0.],\n",
       "          [0., 0., 0.,  ..., 0., 0., 0.],\n",
       "          [0., 0., 0.,  ..., 0., 0., 0.],\n",
       "          ...,\n",
       "          [1., 1., 1.,  ..., 0., 0., 0.],\n",
       "          [0., 0., 0.,  ..., 0., 0., 0.],\n",
       "          [0., 0., 0.,  ..., 0., 0., 0.]],\n",
       "\n",
       "         [[0., 0., 0.,  ..., 0., 0., 0.],\n",
       "          [0., 0., 0.,  ..., 0., 0., 0.],\n",
       "          [0., 0., 1.,  ..., 0., 0., 0.],\n",
       "          ...,\n",
       "          [1., 1., 1.,  ..., 0., 0., 0.],\n",
       "          [0., 0., 1.,  ..., 0., 0., 0.],\n",
       "          [0., 0., 0.,  ..., 0., 0., 0.]],\n",
       "\n",
       "         [[0., 0., 0.,  ..., 0., 0., 0.],\n",
       "          [0., 0., 0.,  ..., 0., 0., 0.],\n",
       "          [0., 0., 0.,  ..., 0., 0., 0.],\n",
       "          ...,\n",
       "          [0., 0., 0.,  ..., 0., 0., 0.],\n",
       "          [0., 0., 0.,  ..., 0., 0., 0.],\n",
       "          [0., 0., 0.,  ..., 0., 0., 0.]],\n",
       "\n",
       "         ...,\n",
       "\n",
       "         [[0., 0., 0.,  ..., 0., 0., 0.],\n",
       "          [0., 0., 0.,  ..., 0., 0., 0.],\n",
       "          [0., 0., 0.,  ..., 0., 0., 0.],\n",
       "          ...,\n",
       "          [0., 0., 0.,  ..., 0., 0., 0.],\n",
       "          [0., 0., 0.,  ..., 0., 0., 0.],\n",
       "          [0., 0., 0.,  ..., 0., 0., 0.]],\n",
       "\n",
       "         [[0., 0., 0.,  ..., 0., 0., 0.],\n",
       "          [0., 0., 0.,  ..., 0., 0., 0.],\n",
       "          [0., 0., 0.,  ..., 0., 0., 0.],\n",
       "          ...,\n",
       "          [0., 0., 0.,  ..., 0., 0., 0.],\n",
       "          [0., 0., 0.,  ..., 0., 0., 0.],\n",
       "          [0., 0., 0.,  ..., 0., 0., 0.]],\n",
       "\n",
       "         [[0., 0., 0.,  ..., 0., 0., 0.],\n",
       "          [0., 0., 0.,  ..., 0., 0., 0.],\n",
       "          [0., 0., 0.,  ..., 0., 0., 0.],\n",
       "          ...,\n",
       "          [0., 0., 0.,  ..., 0., 0., 0.],\n",
       "          [0., 0., 0.,  ..., 0., 0., 0.],\n",
       "          [0., 0., 0.,  ..., 0., 0., 0.]]],\n",
       "\n",
       "\n",
       "        [[[0., 0., 0.,  ..., 0., 0., 0.],\n",
       "          [0., 0., 0.,  ..., 0., 0., 0.],\n",
       "          [0., 0., 0.,  ..., 0., 0., 0.],\n",
       "          ...,\n",
       "          [1., 1., 0.,  ..., 0., 0., 0.],\n",
       "          [0., 0., 0.,  ..., 0., 0., 0.],\n",
       "          [0., 0., 0.,  ..., 0., 0., 0.]],\n",
       "\n",
       "         [[0., 0., 0.,  ..., 0., 0., 0.],\n",
       "          [0., 0., 0.,  ..., 0., 0., 0.],\n",
       "          [0., 0., 0.,  ..., 0., 0., 0.],\n",
       "          ...,\n",
       "          [1., 1., 1.,  ..., 0., 0., 0.],\n",
       "          [0., 0., 0.,  ..., 0., 0., 0.],\n",
       "          [0., 0., 0.,  ..., 0., 0., 0.]],\n",
       "\n",
       "         [[0., 0., 0.,  ..., 0., 0., 0.],\n",
       "          [0., 0., 0.,  ..., 0., 0., 0.],\n",
       "          [0., 0., 1.,  ..., 0., 0., 0.],\n",
       "          ...,\n",
       "          [0., 1., 1.,  ..., 0., 0., 0.],\n",
       "          [0., 0., 1.,  ..., 0., 0., 0.],\n",
       "          [0., 0., 0.,  ..., 0., 0., 0.]],\n",
       "\n",
       "         ...,\n",
       "\n",
       "         [[0., 0., 0.,  ..., 0., 0., 0.],\n",
       "          [0., 0., 0.,  ..., 0., 0., 0.],\n",
       "          [0., 0., 0.,  ..., 0., 0., 0.],\n",
       "          ...,\n",
       "          [0., 0., 0.,  ..., 0., 0., 0.],\n",
       "          [0., 0., 0.,  ..., 0., 0., 0.],\n",
       "          [0., 0., 0.,  ..., 0., 0., 0.]],\n",
       "\n",
       "         [[0., 0., 0.,  ..., 0., 0., 0.],\n",
       "          [0., 0., 0.,  ..., 0., 0., 0.],\n",
       "          [0., 0., 0.,  ..., 0., 0., 0.],\n",
       "          ...,\n",
       "          [0., 0., 0.,  ..., 0., 0., 0.],\n",
       "          [0., 0., 0.,  ..., 0., 0., 0.],\n",
       "          [0., 0., 0.,  ..., 0., 0., 0.]],\n",
       "\n",
       "         [[0., 0., 0.,  ..., 0., 0., 0.],\n",
       "          [0., 0., 0.,  ..., 0., 0., 0.],\n",
       "          [0., 0., 0.,  ..., 0., 0., 0.],\n",
       "          ...,\n",
       "          [0., 0., 0.,  ..., 0., 0., 0.],\n",
       "          [0., 0., 0.,  ..., 0., 0., 0.],\n",
       "          [0., 0., 0.,  ..., 0., 0., 0.]]],\n",
       "\n",
       "\n",
       "        ...,\n",
       "\n",
       "\n",
       "        [[[0., 0., 0.,  ..., 0., 0., 0.],\n",
       "          [0., 0., 0.,  ..., 0., 0., 0.],\n",
       "          [0., 0., 0.,  ..., 0., 0., 0.],\n",
       "          ...,\n",
       "          [0., 0., 0.,  ..., 0., 0., 0.],\n",
       "          [0., 0., 0.,  ..., 0., 0., 0.],\n",
       "          [0., 0., 0.,  ..., 0., 0., 0.]],\n",
       "\n",
       "         [[0., 0., 0.,  ..., 0., 0., 0.],\n",
       "          [0., 0., 0.,  ..., 0., 0., 0.],\n",
       "          [0., 0., 0.,  ..., 0., 0., 0.],\n",
       "          ...,\n",
       "          [0., 0., 0.,  ..., 0., 0., 0.],\n",
       "          [0., 0., 0.,  ..., 0., 0., 0.],\n",
       "          [0., 0., 0.,  ..., 0., 0., 0.]],\n",
       "\n",
       "         [[0., 0., 0.,  ..., 0., 0., 0.],\n",
       "          [0., 0., 0.,  ..., 0., 0., 0.],\n",
       "          [0., 0., 0.,  ..., 0., 0., 0.],\n",
       "          ...,\n",
       "          [0., 0., 0.,  ..., 0., 0., 0.],\n",
       "          [0., 0., 0.,  ..., 0., 0., 0.],\n",
       "          [0., 0., 0.,  ..., 0., 0., 0.]],\n",
       "\n",
       "         ...,\n",
       "\n",
       "         [[0., 0., 0.,  ..., 0., 0., 0.],\n",
       "          [0., 0., 0.,  ..., 0., 0., 0.],\n",
       "          [0., 0., 0.,  ..., 0., 0., 0.],\n",
       "          ...,\n",
       "          [0., 0., 0.,  ..., 0., 0., 0.],\n",
       "          [0., 0., 0.,  ..., 0., 0., 0.],\n",
       "          [0., 0., 0.,  ..., 0., 0., 0.]],\n",
       "\n",
       "         [[0., 0., 0.,  ..., 0., 0., 0.],\n",
       "          [0., 0., 0.,  ..., 0., 0., 0.],\n",
       "          [0., 0., 0.,  ..., 0., 0., 0.],\n",
       "          ...,\n",
       "          [0., 0., 0.,  ..., 0., 0., 0.],\n",
       "          [0., 0., 0.,  ..., 0., 0., 0.],\n",
       "          [0., 0., 0.,  ..., 0., 0., 0.]],\n",
       "\n",
       "         [[0., 0., 0.,  ..., 0., 0., 0.],\n",
       "          [0., 0., 0.,  ..., 0., 0., 0.],\n",
       "          [0., 0., 0.,  ..., 0., 0., 0.],\n",
       "          ...,\n",
       "          [0., 0., 0.,  ..., 0., 0., 0.],\n",
       "          [0., 0., 0.,  ..., 0., 0., 0.],\n",
       "          [0., 0., 0.,  ..., 0., 0., 0.]]],\n",
       "\n",
       "\n",
       "        [[[0., 0., 0.,  ..., 0., 0., 0.],\n",
       "          [0., 0., 0.,  ..., 0., 0., 0.],\n",
       "          [0., 0., 0.,  ..., 0., 0., 0.],\n",
       "          ...,\n",
       "          [0., 0., 0.,  ..., 0., 0., 0.],\n",
       "          [0., 0., 0.,  ..., 0., 0., 0.],\n",
       "          [0., 0., 0.,  ..., 0., 0., 0.]],\n",
       "\n",
       "         [[0., 0., 0.,  ..., 0., 0., 0.],\n",
       "          [0., 0., 0.,  ..., 0., 0., 0.],\n",
       "          [0., 0., 0.,  ..., 0., 0., 0.],\n",
       "          ...,\n",
       "          [0., 0., 0.,  ..., 0., 0., 0.],\n",
       "          [0., 0., 0.,  ..., 0., 0., 0.],\n",
       "          [0., 0., 0.,  ..., 0., 0., 0.]],\n",
       "\n",
       "         [[0., 0., 0.,  ..., 0., 0., 0.],\n",
       "          [0., 0., 0.,  ..., 0., 0., 0.],\n",
       "          [0., 0., 0.,  ..., 0., 0., 0.],\n",
       "          ...,\n",
       "          [0., 0., 0.,  ..., 0., 0., 0.],\n",
       "          [0., 0., 0.,  ..., 0., 0., 0.],\n",
       "          [0., 0., 0.,  ..., 0., 0., 0.]],\n",
       "\n",
       "         ...,\n",
       "\n",
       "         [[0., 0., 0.,  ..., 0., 0., 0.],\n",
       "          [0., 0., 0.,  ..., 0., 0., 0.],\n",
       "          [0., 0., 0.,  ..., 0., 0., 0.],\n",
       "          ...,\n",
       "          [0., 0., 0.,  ..., 0., 0., 0.],\n",
       "          [0., 0., 0.,  ..., 0., 0., 0.],\n",
       "          [0., 0., 0.,  ..., 0., 0., 0.]],\n",
       "\n",
       "         [[0., 0., 0.,  ..., 0., 0., 0.],\n",
       "          [0., 0., 0.,  ..., 0., 0., 0.],\n",
       "          [0., 0., 0.,  ..., 0., 0., 0.],\n",
       "          ...,\n",
       "          [0., 0., 0.,  ..., 0., 0., 0.],\n",
       "          [0., 0., 0.,  ..., 0., 0., 0.],\n",
       "          [0., 0., 0.,  ..., 0., 0., 0.]],\n",
       "\n",
       "         [[0., 0., 0.,  ..., 0., 0., 0.],\n",
       "          [0., 0., 0.,  ..., 0., 0., 0.],\n",
       "          [0., 0., 0.,  ..., 0., 0., 0.],\n",
       "          ...,\n",
       "          [0., 0., 0.,  ..., 0., 0., 0.],\n",
       "          [0., 0., 0.,  ..., 0., 0., 0.],\n",
       "          [0., 0., 0.,  ..., 0., 0., 0.]]],\n",
       "\n",
       "\n",
       "        [[[0., 0., 0.,  ..., 0., 0., 0.],\n",
       "          [0., 0., 0.,  ..., 0., 0., 0.],\n",
       "          [0., 0., 0.,  ..., 0., 0., 0.],\n",
       "          ...,\n",
       "          [0., 0., 0.,  ..., 0., 0., 0.],\n",
       "          [0., 0., 0.,  ..., 0., 0., 0.],\n",
       "          [0., 0., 0.,  ..., 0., 0., 0.]],\n",
       "\n",
       "         [[0., 0., 0.,  ..., 0., 0., 0.],\n",
       "          [0., 0., 0.,  ..., 0., 0., 0.],\n",
       "          [0., 0., 0.,  ..., 0., 0., 0.],\n",
       "          ...,\n",
       "          [0., 0., 0.,  ..., 0., 0., 0.],\n",
       "          [0., 0., 0.,  ..., 0., 0., 0.],\n",
       "          [0., 0., 0.,  ..., 0., 0., 0.]],\n",
       "\n",
       "         [[0., 0., 0.,  ..., 0., 0., 0.],\n",
       "          [0., 0., 0.,  ..., 0., 0., 0.],\n",
       "          [0., 0., 0.,  ..., 0., 0., 0.],\n",
       "          ...,\n",
       "          [0., 0., 0.,  ..., 0., 0., 0.],\n",
       "          [0., 0., 0.,  ..., 0., 0., 0.],\n",
       "          [0., 0., 0.,  ..., 0., 0., 0.]],\n",
       "\n",
       "         ...,\n",
       "\n",
       "         [[0., 0., 0.,  ..., 0., 0., 0.],\n",
       "          [0., 0., 0.,  ..., 0., 0., 0.],\n",
       "          [0., 0., 0.,  ..., 0., 0., 0.],\n",
       "          ...,\n",
       "          [0., 0., 0.,  ..., 0., 0., 0.],\n",
       "          [0., 0., 0.,  ..., 0., 0., 0.],\n",
       "          [0., 0., 0.,  ..., 0., 0., 0.]],\n",
       "\n",
       "         [[0., 0., 0.,  ..., 0., 0., 0.],\n",
       "          [0., 0., 0.,  ..., 0., 0., 0.],\n",
       "          [0., 0., 0.,  ..., 0., 0., 0.],\n",
       "          ...,\n",
       "          [0., 0., 0.,  ..., 0., 0., 0.],\n",
       "          [0., 0., 0.,  ..., 0., 0., 0.],\n",
       "          [0., 0., 0.,  ..., 0., 0., 0.]],\n",
       "\n",
       "         [[0., 0., 0.,  ..., 0., 0., 0.],\n",
       "          [0., 0., 0.,  ..., 0., 0., 0.],\n",
       "          [0., 0., 0.,  ..., 0., 0., 0.],\n",
       "          ...,\n",
       "          [0., 0., 0.,  ..., 0., 0., 0.],\n",
       "          [0., 0., 0.,  ..., 0., 0., 0.],\n",
       "          [0., 0., 0.,  ..., 0., 0., 0.]]]], device='cuda:0')"
      ]
     },
     "execution_count": 144,
     "metadata": {},
     "output_type": "execute_result"
    }
   ],
   "execution_count": 144
  }
 ],
 "metadata": {
  "kernelspec": {
   "display_name": "Python 3",
   "language": "python",
   "name": "python3"
  },
  "language_info": {
   "codemirror_mode": {
    "name": "ipython",
    "version": 2
   },
   "file_extension": ".py",
   "mimetype": "text/x-python",
   "name": "python",
   "nbconvert_exporter": "python",
   "pygments_lexer": "ipython2",
   "version": "2.7.6"
  }
 },
 "nbformat": 4,
 "nbformat_minor": 5
}
