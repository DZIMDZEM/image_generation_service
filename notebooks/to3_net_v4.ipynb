{
 "cells": [
  {
   "metadata": {
    "ExecuteTime": {
     "end_time": "2024-05-11T07:33:40.637281Z",
     "start_time": "2024-05-11T07:33:37.374312Z"
    }
   },
   "cell_type": "code",
   "source": [
    "import pylab as pl\n",
    "import torch\n",
    "from torchvision import datasets"
   ],
   "id": "b10883462b527219",
   "outputs": [],
   "execution_count": 1
  },
  {
   "metadata": {},
   "cell_type": "markdown",
   "source": "# Load data",
   "id": "c0e633329797e74e"
  },
  {
   "metadata": {
    "ExecuteTime": {
     "end_time": "2024-05-11T07:33:40.652526Z",
     "start_time": "2024-05-11T07:33:40.639288Z"
    }
   },
   "cell_type": "code",
   "source": [
    "# Path to your dataset\n",
    "dataset_path = r'C:\\Users\\dzmit\\Downloads\\3d-objects\\2024-05-09_state\\tarin_3d\\images'"
   ],
   "id": "3f10b3d19164ed8c",
   "outputs": [],
   "execution_count": 2
  },
  {
   "metadata": {
    "ExecuteTime": {
     "end_time": "2024-05-11T07:33:40.730103Z",
     "start_time": "2024-05-11T07:33:40.655260Z"
    }
   },
   "cell_type": "code",
   "source": [
    "from torchvision import transforms\n",
    "\n",
    "transform = transforms.Compose([\n",
    "    transforms.Resize((256, 256)),  # Resize all images to 64x64\n",
    "    transforms.ToTensor(),\n",
    "    transforms.Normalize(mean=[0.5, 0.5, 0.5], std=[0.5, 0.5, 0.5])\n",
    "])\n",
    "\n",
    "# Create the dataset\n",
    "dataset = datasets.ImageFolder(root=dataset_path, transform=transform)"
   ],
   "id": "ebdc6330df45d27b",
   "outputs": [],
   "execution_count": 3
  },
  {
   "metadata": {
    "ExecuteTime": {
     "end_time": "2024-05-11T07:33:40.745821Z",
     "start_time": "2024-05-11T07:33:40.731620Z"
    }
   },
   "cell_type": "code",
   "source": "# dataset[0][0].shape",
   "id": "f2f2fa2a6eb066c3",
   "outputs": [],
   "execution_count": 4
  },
  {
   "metadata": {
    "ExecuteTime": {
     "end_time": "2024-05-11T07:33:40.761371Z",
     "start_time": "2024-05-11T07:33:40.748833Z"
    }
   },
   "cell_type": "code",
   "source": [
    "# Path to your dataset\n",
    "targets_path = r'C:\\Users\\dzmit\\Downloads\\3d-objects\\2024-05-09_state\\tarin_3d\\scaled'"
   ],
   "id": "f647306a72e310b1",
   "outputs": [],
   "execution_count": 5
  },
  {
   "metadata": {
    "ExecuteTime": {
     "end_time": "2024-05-11T07:33:40.823602Z",
     "start_time": "2024-05-11T07:33:40.761931Z"
    }
   },
   "cell_type": "code",
   "source": [
    "import numpy as np\n",
    "\n",
    "\n",
    "# transform_target = transforms.Compose([\n",
    "#     # transforms.Resize((64, 64)),  # Resize all images to 64x64\n",
    "#     # transforms.ToTensor(),\n",
    "#     # transforms.ToFloat(),\n",
    "#     # transforms.Normalize(mean=[0.5, 0.5, 0.5], std=[0.5, 0.5, 0.5])\n",
    "# ])\n",
    "\n",
    "def npy_loader(path):\n",
    "\n",
    "     # Load the data from a .npy file\n",
    "    sample = np.load(path)\n",
    "\n",
    "    # Convert the numpy array from int to float32\n",
    "    sample = sample.astype(np.float32)\n",
    "\n",
    "    # Convert numpy array to a PyTorch tensor\n",
    "    sample = torch.from_numpy(sample)\n",
    "\n",
    "    # Optionally, normalize the data here if required\n",
    "    # sample = (sample - sample.mean()) / sample.std()\n",
    "\n",
    "    return sample\n",
    "\n",
    "    # sample = torch.from_numpy(np.load(path))\n",
    "    # return sample\n",
    "\n",
    "\n",
    "# Create the dataset\n",
    "targets = datasets.DatasetFolder(root=targets_path, loader=npy_loader, extensions=['.npy'])"
   ],
   "id": "c7d441238732c7c2",
   "outputs": [],
   "execution_count": 6
  },
  {
   "metadata": {
    "ExecuteTime": {
     "end_time": "2024-05-11T07:33:40.839077Z",
     "start_time": "2024-05-11T07:33:40.825734Z"
    }
   },
   "cell_type": "code",
   "source": [
    "# DataLoader\n",
    "batch_size = 32  # Batch size\n",
    "\n",
    "dataloader = torch.utils.data.DataLoader(dataset, batch_size=batch_size, shuffle=False)\n",
    "targetloader = torch.utils.data.DataLoader(targets, batch_size=batch_size, shuffle=False)"
   ],
   "id": "460c215c96b56ded",
   "outputs": [],
   "execution_count": 7
  },
  {
   "metadata": {},
   "cell_type": "markdown",
   "source": "# Model Architecture",
   "id": "c2e4cccfb73e49cb"
  },
  {
   "metadata": {
    "ExecuteTime": {
     "end_time": "2024-05-10T11:05:22.361375Z",
     "start_time": "2024-05-10T11:05:22.338167Z"
    }
   },
   "cell_type": "code",
   "source": [
    "import torch\n",
    "import torch.nn as nn\n",
    "import torch.nn.functional as F\n",
    "\n",
    "class To3Net(nn.Module):\n",
    "    def __init__(self):\n",
    "        super(To3Net, self).__init__()\n",
    "        self.encoder = nn.Sequential(\n",
    "            nn.Conv2d(3, 256, kernel_size=5, stride=1, padding=2),\n",
    "            nn.ReLU(),\n",
    "            nn.MaxPool2d(2),  # Output: 64 x 128 x 128\n",
    "            nn.Conv2d(256, 128, kernel_size=3, stride=1, padding=1),\n",
    "            nn.ReLU(),\n",
    "            nn.MaxPool2d(2),  # Output: 128 x 64 x 64\n",
    "            nn.Conv2d(128, 256, kernel_size=3, stride=1, padding=1),\n",
    "            nn.ReLU(),\n",
    "        )\n",
    "\n",
    "        # Adjusting to use Conv3d\n",
    "        self.decoder = nn.Sequential(\n",
    "            nn.Conv3d(1, 128, kernel_size=(5, 4, 4), stride=(3, 2, 2), padding=(0, 2, 2)),\n",
    "            nn.ReLU(),\n",
    "            nn.Conv3d(128, 128, kernel_size=(4, 4, 4), stride=(2, 1, 1), padding=(0, 1, 1)),\n",
    "            nn.ReLU(),\n",
    "            nn.Conv3d(128, 64, kernel_size=(4, 2, 2), stride=(2, 2, 2), padding=(0, 1, 1)),\n",
    "            nn.ReLU(),\n",
    "            nn.Conv3d(64, 1, kernel_size=(4, 2, 2), stride=(1, 1, 1), padding=(0, 0, 0)),\n",
    "            nn.Sigmoid()  # Binary output via sigmoid activation\n",
    "        )\n",
    "\n",
    "    def forward(self, x):\n",
    "        x = self.encoder(x)\n",
    "        # print(\"Encoder Output Shape:\", x.shape)\n",
    "        # Correct reshaping to 3D by expanding height and width while keeping depth\n",
    "        x = x.view(x.size(0), 1, 256, 64, 64).permute(0, 1, 2, 3, 4)  # No need for change, this reshaping was correct\n",
    "        # print(\"Reshaped to 3D:\", x.shape)\n",
    "        x = self.decoder(x)\n",
    "        # print(\"Decoder Output Shape:\", x.shape)\n",
    "\n",
    "        return x\n"
   ],
   "id": "9cd0e609b0d9e763",
   "outputs": [],
   "execution_count": 8
  },
  {
   "metadata": {},
   "cell_type": "markdown",
   "source": "# Device",
   "id": "fae5c9ead739cfd3"
  },
  {
   "metadata": {
    "ExecuteTime": {
     "end_time": "2024-05-10T11:05:25.866580Z",
     "start_time": "2024-05-10T11:05:25.004879Z"
    }
   },
   "cell_type": "code",
   "source": [
    "# Check if CUDA is available, else use CPU\n",
    "device = torch.device(\"cuda\" if torch.cuda.is_available() else \"cpu\")\n",
    "print(f'Using device: {device}')"
   ],
   "id": "a2c6b74b77c58978",
   "outputs": [
    {
     "name": "stdout",
     "output_type": "stream",
     "text": [
      "Using device: cuda\n"
     ]
    }
   ],
   "execution_count": 10
  },
  {
   "metadata": {
    "ExecuteTime": {
     "end_time": "2024-05-10T11:05:25.959834Z",
     "start_time": "2024-05-10T11:05:25.951474Z"
    }
   },
   "cell_type": "code",
   "source": "torch.cuda.is_available()",
   "id": "e193b77c5f2fc5b8",
   "outputs": [
    {
     "data": {
      "text/plain": [
       "True"
      ]
     },
     "execution_count": 11,
     "metadata": {},
     "output_type": "execute_result"
    }
   ],
   "execution_count": 11
  },
  {
   "metadata": {},
   "cell_type": "markdown",
   "source": "# Load the model",
   "id": "6d8c409232c5a988"
  },
  {
   "metadata": {
    "ExecuteTime": {
     "end_time": "2024-05-10T23:30:03.299777Z",
     "start_time": "2024-05-10T23:30:03.290774Z"
    }
   },
   "cell_type": "code",
   "source": [
    "# del model\n",
    "# del optimizer"
   ],
   "id": "e62414826c4f0d05",
   "outputs": [],
   "execution_count": 59
  },
  {
   "metadata": {
    "ExecuteTime": {
     "end_time": "2024-05-10T23:30:04.610209Z",
     "start_time": "2024-05-10T23:30:04.558474Z"
    }
   },
   "cell_type": "code",
   "source": [
    "model = To3Net().to(device)\n",
    "# print(model)"
   ],
   "id": "47e95251fca331f6",
   "outputs": [],
   "execution_count": 60
  },
  {
   "metadata": {
    "ExecuteTime": {
     "end_time": "2024-05-10T11:06:21.942769Z",
     "start_time": "2024-05-10T11:06:21.932257Z"
    }
   },
   "cell_type": "code",
   "source": "# model(dataset[0][0].unsqueeze(0).to(device)).shape",
   "id": "d2a6e9641685b762",
   "outputs": [],
   "execution_count": 17
  },
  {
   "metadata": {
    "ExecuteTime": {
     "end_time": "2024-05-10T11:06:26.443941Z",
     "start_time": "2024-05-10T11:06:26.423943Z"
    }
   },
   "cell_type": "code",
   "source": "# dataset[0][0].unsqueeze(0).to('cpu')",
   "id": "ab0cda4efdfc1ca7",
   "outputs": [],
   "execution_count": 18
  },
  {
   "metadata": {},
   "cell_type": "markdown",
   "source": "# Logging function",
   "id": "651f4a4a7c210f20"
  },
  {
   "metadata": {
    "ExecuteTime": {
     "end_time": "2024-05-11T07:34:09.938217Z",
     "start_time": "2024-05-11T07:34:08.380754Z"
    }
   },
   "cell_type": "code",
   "source": [
    "import trimesh\n",
    "import matplotlib.pyplot as plt\n",
    "\n",
    "\n",
    "def check_output(generated_object, input_image, epoch=0, batch=0):\n",
    "    generated_object = generated_object.to('cpu').clone().detach() # Move to CPU and detach from the computation graph\n",
    "    generated_object = (generated_object.numpy() > np.median(generated_object.numpy())).astype(np.uint8) # Convert to numpy array\n",
    "    print(generated_object.sum())\n",
    "    generated_object[0][0][0] = 1\n",
    "\n",
    "    # Save the mesh\n",
    "    voxel_mesh = trimesh.voxel.ops.matrix_to_marching_cubes(generated_object)\n",
    "    voxel_mesh.export(f'output/check_generated_object_epoch_{epoch}_batch_{batch}.obj')\n",
    "\n",
    "     # Normalize the image to [0, 1] if it's not already\n",
    "    image = input_image.to('cpu').clone().detach().numpy().transpose(1, 2, 0)\n",
    "    image = (image + 1) / 2  # Assuming that the output is in the range [-1, 1]\n",
    "    image = image.clip(0, 1)  # Ensure the values are within [0, 1]\n",
    "\n",
    "    plt.imshow(image)\n",
    "    plt.savefig(f'output/check_generated_image_epoch_{epoch}_batch_{batch}.png')\n",
    "\n",
    "\n",
    "def check_normal_output(generated_object, input_image, threshold=0.5, epoch=0, batch=0):\n",
    "    generated_object = generated_object.to('cpu').clone().detach() # Move to CPU and detach from the computation graph\n",
    "    generated_object = (generated_object.numpy() > threshold).astype(np.uint8) # Convert to numpy array\n",
    "    print(generated_object.sum())\n",
    "    generated_object[0][0][0] = 1\n",
    "\n",
    "    # Save the mesh\n",
    "    voxel_mesh = trimesh.voxel.ops.matrix_to_marching_cubes(generated_object)\n",
    "    voxel_mesh.export(f'output/check_generated_object_epoch_{epoch}_batch_{batch}.obj')\n",
    "\n",
    "     # Normalize the image to [0, 1] if it's not already\n",
    "    image = input_image.to('cpu').clone().detach().numpy().transpose(1, 2, 0)\n",
    "    image = (image + 1) / 2  # Assuming that the output is in the range [-1, 1]\n",
    "    image = image.clip(0, 1)  # Ensure the values are within [0, 1]\n",
    "\n",
    "    plt.imshow(image)\n",
    "    plt.savefig(f'output/check_generated_image_epoch_{epoch}_batch_{batch}.png')\n"
   ],
   "id": "4c0455a8c9cc8289",
   "outputs": [],
   "execution_count": 9
  },
  {
   "metadata": {
    "ExecuteTime": {
     "end_time": "2024-05-10T23:30:08.265270Z",
     "start_time": "2024-05-10T23:30:08.252365Z"
    }
   },
   "cell_type": "code",
   "source": [
    "# Optimizers\n",
    "optimizer = torch.optim.SGD(model.parameters(), lr=0.002)\n",
    "\n",
    "# Loss function\n",
    "criterion = nn.BCELoss()"
   ],
   "id": "79e3ca6230018c26",
   "outputs": [],
   "execution_count": 61
  },
  {
   "metadata": {},
   "cell_type": "markdown",
   "source": "# Train loop",
   "id": "c4f291f10b59563a"
  },
  {
   "metadata": {
    "ExecuteTime": {
     "end_time": "2024-05-11T07:34:14.638041Z",
     "start_time": "2024-05-11T07:34:14.319019Z"
    }
   },
   "cell_type": "code",
   "source": [
    "for i, ((images, _), (objects, _)) in enumerate(zip(dataloader, targetloader)):\n",
    "    check_output(objects[0], images[0], epoch=2000, batch=2000)\n",
    "    break"
   ],
   "id": "80c151c9ac93b78a",
   "outputs": [
    {
     "name": "stdout",
     "output_type": "stream",
     "text": [
      "593\n"
     ]
    },
    {
     "data": {
      "text/plain": [
       "<Figure size 640x480 with 1 Axes>"
      ],
      "image/png": "[encoded data removed]"
     },
     "metadata": {},
     "output_type": "display_data"
    }
   ],
   "execution_count": 10
  },
  {
   "metadata": {
    "ExecuteTime": {
     "end_time": "2024-05-10T23:31:48.598052Z",
     "start_time": "2024-05-10T23:31:48.592548Z"
    }
   },
   "cell_type": "code",
   "source": "num_epochs = 300",
   "id": "11a1971908ad53d7",
   "outputs": [],
   "execution_count": 66
  },
  {
   "metadata": {
    "ExecuteTime": {
     "end_time": "2024-06-03T13:24:34.374360Z",
     "start_time": "2024-06-03T13:24:34.364845Z"
    }
   },
   "cell_type": "code",
   "source": [
    "for epoch in range(200, num_epochs):\n",
    "    try:\n",
    "        for i, ((images, _), (objects, _)) in enumerate(zip(dataloader, targetloader)):\n",
    "            # Move data to the appropriate device\n",
    "            print(i)\n",
    "            images = images.to(device)\n",
    "            objects = objects.to(device)\n",
    "\n",
    "            ### Train Generator\n",
    "            optimizer.zero_grad()\n",
    "\n",
    "            output = model(images).squeeze(1)\n",
    "            loss = criterion(output, objects)\n",
    "            loss.backward()\n",
    "\n",
    "            optimizer.step()\n",
    "\n",
    "            if (i + 1) % 4 == 0:\n",
    "                print(f'Epoch [{epoch + 1}/{num_epochs}], Step [{i + 1}/{len(dataloader)}], '\n",
    "                      f'Loss: {loss.item():.4f}')\n",
    "\n",
    "            if (epoch + 1) % 10 == 0:\n",
    "                # if (i + 1) % 5 == 0:\n",
    "                check_output(output[0], images[0], epoch=epoch, batch=i)\n",
    "\n",
    "        #     # check_output(fake_images[0], epoch)\n",
    "        #     generate_and_plot_images(25, epoch=epoch)\n",
    "\n",
    "        if (epoch + 1) % 30 == 0:\n",
    "            checkpoint = {\n",
    "                'model_state_dict': model.state_dict(),\n",
    "                'optimizer_state_dict': optimizer.state_dict(),\n",
    "                'epoch': epoch  # Optional, if you want to also save the epoch number\n",
    "            }\n",
    "\n",
    "            torch.save(checkpoint, f'GAN_ass_{epoch}.pth')\n",
    "\n",
    "    except OSError:\n",
    "        print(f\"An error occurred while processing the image. Epoch: {epoch}, batch: {i}\")\n",
    "        continue\n"
   ],
   "id": "a81f1ceb35998d3f",
   "outputs": [
    {
     "name": "stdout",
     "output_type": "stream",
     "text": [
      "Epoch [0/300], Step [20/30], Loss: 0.5430\n",
      "Epoch [1/300], Step [20/30], Loss: 0.5354\n",
      "Epoch [2/300], Step [20/30], Loss: 0.5326\n",
      "Epoch [3/300], Step [20/30], Loss: 0.5321\n",
      "Epoch [4/300], Step [20/30], Loss: 0.5248\n",
      "Epoch [5/300], Step [20/30], Loss: 0.5297\n",
      "Epoch [6/300], Step [20/30], Loss: 0.5226\n",
      "Epoch [7/300], Step [20/30], Loss: 0.5207\n",
      "Epoch [8/300], Step [20/30], Loss: 0.5212\n",
      "Epoch [9/300], Step [20/30], Loss: 0.5207\n",
      "Epoch [10/300], Step [20/30], Loss: 0.5189\n",
      "Epoch [11/300], Step [20/30], Loss: 0.5206\n",
      "Epoch [12/300], Step [20/30], Loss: 0.5158\n",
      "Epoch [13/300], Step [20/30], Loss: 0.5158\n",
      "Epoch [14/300], Step [20/30], Loss: 0.5122\n",
      "Epoch [15/300], Step [20/30], Loss: 0.5150\n",
      "Epoch [16/300], Step [20/30], Loss: 0.5153\n",
      "Epoch [17/300], Step [20/30], Loss: 0.5156\n",
      "Epoch [18/300], Step [20/30], Loss: 0.5076\n",
      "Epoch [19/300], Step [20/30], Loss: 0.5080\n",
      "Epoch [20/300], Step [20/30], Loss: 0.5057\n",
      "Epoch [21/300], Step [20/30], Loss: 0.5097\n",
      "Epoch [22/300], Step [20/30], Loss: 0.5042\n",
      "Epoch [23/300], Step [20/30], Loss: 0.5048\n",
      "Epoch [24/300], Step [20/30], Loss: 0.5050\n",
      "Epoch [25/300], Step [20/30], Loss: 0.5043\n",
      "Epoch [26/300], Step [20/30], Loss: 0.5043\n",
      "Epoch [27/300], Step [20/30], Loss: 0.5048\n",
      "Epoch [28/300], Step [20/30], Loss: 0.5035\n",
      "Epoch [29/300], Step [20/30], Loss: 0.5001\n",
      "Epoch [30/300], Step [20/30], Loss: 0.5011\n",
      "Epoch [31/300], Step [20/30], Loss: 0.4982\n",
      "Epoch [32/300], Step [20/30], Loss: 0.4979\n",
      "Epoch [33/300], Step [20/30], Loss: 0.4975\n",
      "Epoch [34/300], Step [20/30], Loss: 0.4957\n",
      "Epoch [35/300], Step [20/30], Loss: 0.4969\n",
      "Epoch [36/300], Step [20/30], Loss: 0.4988\n",
      "Epoch [37/300], Step [20/30], Loss: 0.4958\n",
      "Epoch [38/300], Step [20/30], Loss: 0.4975\n",
      "Epoch [39/300], Step [20/30], Loss: 0.4928\n",
      "Epoch [40/300], Step [20/30], Loss: 0.4918\n",
      "Epoch [41/300], Step [20/30], Loss: 0.4932\n",
      "Epoch [42/300], Step [20/30], Loss: 0.4975\n",
      "Epoch [43/300], Step [20/30], Loss: 0.4941\n",
      "Epoch [44/300], Step [20/30], Loss: 0.4960\n",
      "Epoch [45/300], Step [20/30], Loss: 0.4927\n",
      "Epoch [46/300], Step [20/30], Loss: 0.4926\n",
      "Epoch [47/300], Step [20/30], Loss: 0.4938\n",
      "Epoch [48/300], Step [20/30], Loss: 0.4932\n",
      "Epoch [49/300], Step [20/30], Loss: 0.4899\n",
      "Epoch [50/300], Step [20/30], Loss: 0.4861\n",
      "Epoch [51/300], Step [20/30], Loss: 0.4898\n",
      "Epoch [52/300], Step [20/30], Loss: 0.4878\n",
      "Epoch [53/300], Step [20/30], Loss: 0.4860\n",
      "Epoch [54/300], Step [20/30], Loss: 0.4842\n",
      "Epoch [55/300], Step [20/30], Loss: 0.4849\n",
      "Epoch [56/300], Step [20/30], Loss: 0.4827\n",
      "Epoch [57/300], Step [20/30], Loss: 0.4867\n",
      "Epoch [58/300], Step [20/30], Loss: 0.4857\n",
      "Epoch [59/300], Step [20/30], Loss: 0.4879\n",
      "Epoch [60/300], Step [20/30], Loss: 0.4870\n",
      "Epoch [61/300], Step [20/30], Loss: 0.4857\n",
      "Epoch [62/300], Step [20/30], Loss: 0.4841\n",
      "Epoch [63/300], Step [20/30], Loss: 0.4860\n",
      "Epoch [64/300], Step [20/30], Loss: 0.4809\n",
      "Epoch [65/300], Step [20/30], Loss: 0.4790\n",
      "Epoch [66/300], Step [20/30], Loss: 0.4805\n",
      "Epoch [67/300], Step [20/30], Loss: 0.4801\n",
      "Epoch [68/300], Step [20/30], Loss: 0.4800\n",
      "Epoch [69/300], Step [20/30], Loss: 0.4780\n",
      "Epoch [70/300], Step [20/30], Loss: 0.4773\n",
      "Epoch [71/300], Step [20/30], Loss: 0.4772\n",
      "Epoch [72/300], Step [20/30], Loss: 0.4815\n",
      "Epoch [73/300], Step [20/30], Loss: 0.4758\n",
      "Epoch [74/300], Step [20/30], Loss: 0.4802\n",
      "Epoch [75/300], Step [20/30], Loss: 0.4758\n",
      "Epoch [76/300], Step [20/30], Loss: 0.4774\n",
      "Epoch [77/300], Step [20/30], Loss: 0.4778\n",
      "Epoch [78/300], Step [20/30], Loss: 0.4780\n",
      "Epoch [79/300], Step [20/30], Loss: 0.4752\n",
      "Epoch [80/300], Step [20/30], Loss: 0.4762\n",
      "Epoch [81/300], Step [20/30], Loss: 0.4753\n",
      "Epoch [82/300], Step [20/30], Loss: 0.4705\n",
      "Epoch [83/300], Step [20/30], Loss: 0.4703\n",
      "Epoch [84/300], Step [20/30], Loss: 0.4756\n",
      "Epoch [85/300], Step [20/30], Loss: 0.4746\n",
      "Epoch [86/300], Step [20/30], Loss: 0.4709\n",
      "Epoch [87/300], Step [20/30], Loss: 0.4745\n",
      "Epoch [88/300], Step [20/30], Loss: 0.4746\n",
      "Epoch [89/300], Step [20/30], Loss: 0.4725\n",
      "Epoch [90/300], Step [20/30], Loss: 0.4734\n",
      "Epoch [91/300], Step [20/30], Loss: 0.4706\n",
      "Epoch [92/300], Step [20/30], Loss: 0.4671\n",
      "Epoch [93/300], Step [20/30], Loss: 0.4714\n",
      "Epoch [94/300], Step [20/30], Loss: 0.4712\n",
      "Epoch [95/300], Step [20/30], Loss: 0.4693\n",
      "Epoch [96/300], Step [20/30], Loss: 0.4683\n",
      "Epoch [97/300], Step [20/30], Loss: 0.4706\n",
      "Epoch [98/300], Step [20/30], Loss: 0.4715\n",
      "Epoch [99/300], Step [20/30], Loss: 0.4646\n",
      "Epoch [100/300], Step [20/30], Loss: 0.4657\n",
      "Epoch [101/300], Step [20/30], Loss: 0.4633\n",
      "Epoch [102/300], Step [20/30], Loss: 0.4671\n",
      "Epoch [103/300], Step [20/30], Loss: 0.4667\n",
      "Epoch [104/300], Step [20/30], Loss: 0.4681\n",
      "Epoch [105/300], Step [20/30], Loss: 0.4643\n",
      "Epoch [106/300], Step [20/30], Loss: 0.4685\n",
      "Epoch [107/300], Step [20/30], Loss: 0.4626\n",
      "Epoch [108/300], Step [20/30], Loss: 0.4624\n",
      "Epoch [109/300], Step [20/30], Loss: 0.4654\n",
      "Epoch [110/300], Step [20/30], Loss: 0.4629\n",
      "Epoch [111/300], Step [20/30], Loss: 0.4594\n",
      "Epoch [112/300], Step [20/30], Loss: 0.4616\n",
      "Epoch [113/300], Step [20/30], Loss: 0.4583\n",
      "Epoch [114/300], Step [20/30], Loss: 0.4611\n",
      "Epoch [115/300], Step [20/30], Loss: 0.4597\n",
      "Epoch [116/300], Step [20/30], Loss: 0.4610\n",
      "Epoch [117/300], Step [20/30], Loss: 0.4597\n",
      "Epoch [118/300], Step [20/30], Loss: 0.4638\n",
      "Epoch [119/300], Step [20/30], Loss: 0.4616\n",
      "Epoch [120/300], Step [20/30], Loss: 0.4601\n",
      "Epoch [121/300], Step [20/30], Loss: 0.4563\n",
      "Epoch [122/300], Step [20/30], Loss: 0.4567\n",
      "Epoch [123/300], Step [20/30], Loss: 0.4571\n",
      "Epoch [124/300], Step [20/30], Loss: 0.4569\n",
      "Epoch [125/300], Step [20/30], Loss: 0.4560\n",
      "Epoch [126/300], Step [20/30], Loss: 0.4610\n",
      "Epoch [127/300], Step [20/30], Loss: 0.4545\n",
      "Epoch [128/300], Step [20/30], Loss: 0.4588\n",
      "Epoch [129/300], Step [20/30], Loss: 0.4542\n",
      "Epoch [130/300], Step [20/30], Loss: 0.4542\n",
      "Epoch [131/300], Step [20/30], Loss: 0.4568\n",
      "Epoch [132/300], Step [20/30], Loss: 0.4590\n",
      "Epoch [133/300], Step [20/30], Loss: 0.4587\n",
      "Epoch [134/300], Step [20/30], Loss: 0.4523\n",
      "Epoch [135/300], Step [20/30], Loss: 0.4533\n",
      "Epoch [136/300], Step [20/30], Loss: 0.4570\n",
      "Epoch [137/300], Step [20/30], Loss: 0.4554\n",
      "Epoch [138/300], Step [20/30], Loss: 0.4521\n",
      "Epoch [139/300], Step [20/30], Loss: 0.4499\n",
      "Epoch [140/300], Step [20/30], Loss: 0.4502\n",
      "Epoch [141/300], Step [20/30], Loss: 0.4526\n",
      "Epoch [142/300], Step [20/30], Loss: 0.4523\n",
      "Epoch [143/300], Step [20/30], Loss: 0.4499\n",
      "Epoch [144/300], Step [20/30], Loss: 0.4532\n",
      "Epoch [145/300], Step [20/30], Loss: 0.4536\n",
      "Epoch [146/300], Step [20/30], Loss: 0.4547\n",
      "Epoch [147/300], Step [20/30], Loss: 0.4510\n",
      "Epoch [148/300], Step [20/30], Loss: 0.4484\n",
      "Epoch [149/300], Step [20/30], Loss: 0.4499\n",
      "Epoch [150/300], Step [20/30], Loss: 0.4531\n",
      "Epoch [151/300], Step [20/30], Loss: 0.4507\n",
      "Epoch [152/300], Step [20/30], Loss: 0.4515\n",
      "Epoch [153/300], Step [20/30], Loss: 0.4497\n",
      "Epoch [154/300], Step [20/30], Loss: 0.4458\n",
      "Epoch [155/300], Step [20/30], Loss: 0.4483\n",
      "Epoch [156/300], Step [20/30], Loss: 0.4449\n",
      "Epoch [157/300], Step [20/30], Loss: 0.4505\n",
      "Epoch [158/300], Step [20/30], Loss: 0.4480\n",
      "Epoch [159/300], Step [20/30], Loss: 0.4499\n",
      "Epoch [160/300], Step [20/30], Loss: 0.4487\n",
      "Epoch [161/300], Step [20/30], Loss: 0.4498\n",
      "Epoch [162/300], Step [20/30], Loss: 0.4444\n",
      "Epoch [163/300], Step [20/30], Loss: 0.4485\n",
      "Epoch [164/300], Step [20/30], Loss: 0.4474\n",
      "Epoch [165/300], Step [20/30], Loss: 0.4446\n",
      "Epoch [166/300], Step [20/30], Loss: 0.4444\n",
      "Epoch [167/300], Step [20/30], Loss: 0.4472\n",
      "Epoch [168/300], Step [20/30], Loss: 0.4417\n",
      "Epoch [169/300], Step [20/30], Loss: 0.4415\n",
      "Epoch [170/300], Step [20/30], Loss: 0.4398\n",
      "Epoch [171/300], Step [20/30], Loss: 0.4469\n",
      "Epoch [172/300], Step [20/30], Loss: 0.4430\n",
      "Epoch [173/300], Step [20/30], Loss: 0.4464\n",
      "Epoch [174/300], Step [20/30], Loss: 0.4404\n",
      "Epoch [175/300], Step [20/30], Loss: 0.4453\n",
      "Epoch [176/300], Step [20/30], Loss: 0.4383\n",
      "Epoch [177/300], Step [20/30], Loss: 0.4407\n",
      "Epoch [178/300], Step [20/30], Loss: 0.4419\n",
      "Epoch [179/300], Step [20/30], Loss: 0.4417\n",
      "Epoch [180/300], Step [20/30], Loss: 0.4436\n",
      "Epoch [181/300], Step [20/30], Loss: 0.4395\n",
      "Epoch [182/300], Step [20/30], Loss: 0.4369\n",
      "Epoch [183/300], Step [20/30], Loss: 0.4385\n",
      "Epoch [184/300], Step [20/30], Loss: 0.4404\n",
      "Epoch [185/300], Step [20/30], Loss: 0.4370\n",
      "Epoch [186/300], Step [20/30], Loss: 0.4376\n",
      "Epoch [187/300], Step [20/30], Loss: 0.4381\n",
      "Epoch [188/300], Step [20/30], Loss: 0.4351\n",
      "Epoch [189/300], Step [20/30], Loss: 0.4378\n",
      "Epoch [190/300], Step [20/30], Loss: 0.4353\n",
      "Epoch [191/300], Step [20/30], Loss: 0.4413\n",
      "Epoch [192/300], Step [20/30], Loss: 0.4346\n",
      "Epoch [193/300], Step [20/30], Loss: 0.4344\n",
      "Epoch [194/300], Step [20/30], Loss: 0.4347\n",
      "Epoch [195/300], Step [20/30], Loss: 0.4376\n",
      "Epoch [196/300], Step [20/30], Loss: 0.4341\n",
      "Epoch [197/300], Step [20/30], Loss: 0.4375\n",
      "Epoch [198/300], Step [20/30], Loss: 0.4336\n",
      "Epoch [199/300], Step [20/30], Loss: 0.4375\n",
      "Epoch [200/300], Step [20/30], Loss: 0.4323\n",
      "Epoch [201/300], Step [20/30], Loss: 0.4313\n",
      "Epoch [202/300], Step [20/30], Loss: 0.4367\n",
      "Epoch [203/300], Step [20/30], Loss: 0.4351\n",
      "Epoch [204/300], Step [20/30], Loss: 0.4367\n",
      "Epoch [205/300], Step [20/30], Loss: 0.4372\n",
      "Epoch [206/300], Step [20/30], Loss: 0.4302\n",
      "Epoch [207/300], Step [20/30], Loss: 0.4322\n",
      "Epoch [208/300], Step [20/30], Loss: 0.4309\n",
      "Epoch [209/300], Step [20/30], Loss: 0.4317\n",
      "Epoch [210/300], Step [20/30], Loss: 0.4316\n",
      "Epoch [211/300], Step [20/30], Loss: 0.4289\n",
      "Epoch [212/300], Step [20/30], Loss: 0.4327\n",
      "Epoch [213/300], Step [20/30], Loss: 0.4313\n",
      "Epoch [214/300], Step [20/30], Loss: 0.4298\n",
      "Epoch [215/300], Step [20/30], Loss: 0.4283\n",
      "Epoch [216/300], Step [20/30], Loss: 0.4340\n",
      "Epoch [217/300], Step [20/30], Loss: 0.4291\n",
      "Epoch [218/300], Step [20/30], Loss: 0.4274\n",
      "Epoch [219/300], Step [20/30], Loss: 0.4285\n",
      "Epoch [220/300], Step [20/30], Loss: 0.4264\n",
      "Epoch [221/300], Step [20/30], Loss: 0.4324\n",
      "Epoch [222/300], Step [20/30], Loss: 0.4267\n",
      "Epoch [223/300], Step [20/30], Loss: 0.4325\n",
      "Epoch [224/300], Step [20/30], Loss: 0.4258\n",
      "Epoch [225/300], Step [20/30], Loss: 0.4310\n",
      "Epoch [226/300], Step [20/30], Loss: 0.4263\n",
      "Epoch [227/300], Step [20/30], Loss: 0.4304\n",
      "Epoch [228/300], Step [20/30], Loss: 0.4289\n",
      "Epoch [229/300], Step [20/30], Loss: 0.4257\n",
      "Epoch [230/300], Step [20/30], Loss: 0.4266\n",
      "Epoch [231/300], Step [20/30], Loss: 0.4307\n",
      "Epoch [232/300], Step [20/30], Loss: 0.4240\n",
      "Epoch [233/300], Step [20/30], Loss: 0.4264\n",
      "Epoch [234/300], Step [20/30], Loss: 0.4261\n",
      "Epoch [235/300], Step [20/30], Loss: 0.4228\n",
      "Epoch [236/300], Step [20/30], Loss: 0.4292\n",
      "Epoch [237/300], Step [20/30], Loss: 0.4292\n",
      "Epoch [238/300], Step [20/30], Loss: 0.4227\n",
      "Epoch [239/300], Step [20/30], Loss: 0.4265\n",
      "Epoch [240/300], Step [20/30], Loss: 0.4216\n",
      "Epoch [241/300], Step [20/30], Loss: 0.4224\n",
      "Epoch [242/300], Step [20/30], Loss: 0.4234\n",
      "Epoch [243/300], Step [20/30], Loss: 0.4216\n",
      "Epoch [244/300], Step [20/30], Loss: 0.4229\n",
      "Epoch [245/300], Step [20/30], Loss: 0.4227\n",
      "Epoch [246/300], Step [20/30], Loss: 0.4202\n",
      "Epoch [247/300], Step [20/30], Loss: 0.4218\n",
      "Epoch [248/300], Step [20/30], Loss: 0.4230\n",
      "Epoch [249/300], Step [20/30], Loss: 0.4253\n",
      "Epoch [250/300], Step [20/30], Loss: 0.4216\n",
      "Epoch [251/300], Step [20/30], Loss: 0.4236\n",
      "Epoch [252/300], Step [20/30], Loss: 0.4252\n",
      "Epoch [253/300], Step [20/30], Loss: 0.4224\n",
      "Epoch [254/300], Step [20/30], Loss: 0.4209\n",
      "Epoch [255/300], Step [20/30], Loss: 0.4174\n",
      "Epoch [256/300], Step [20/30], Loss: 0.4183\n",
      "Epoch [257/300], Step [20/30], Loss: 0.4201\n",
      "Epoch [258/300], Step [20/30], Loss: 0.4239\n",
      "Epoch [259/300], Step [20/30], Loss: 0.4233\n",
      "Epoch [260/300], Step [20/30], Loss: 0.4171\n",
      "Epoch [261/300], Step [20/30], Loss: 0.4198\n",
      "Epoch [262/300], Step [20/30], Loss: 0.4203\n",
      "Epoch [263/300], Step [20/30], Loss: 0.4156\n",
      "Epoch [264/300], Step [20/30], Loss: 0.4176\n",
      "Epoch [265/300], Step [20/30], Loss: 0.4166\n",
      "Epoch [266/300], Step [20/30], Loss: 0.4214\n",
      "Epoch [267/300], Step [20/30], Loss: 0.4193\n",
      "Epoch [268/300], Step [20/30], Loss: 0.4142\n",
      "Epoch [269/300], Step [20/30], Loss: 0.4202\n",
      "Epoch [270/300], Step [20/30], Loss: 0.4181\n",
      "Epoch [271/300], Step [20/30], Loss: 0.4143\n",
      "Epoch [272/300], Step [20/30], Loss: 0.4166\n",
      "Epoch [273/300], Step [20/30], Loss: 0.4188\n",
      "Epoch [274/300], Step [20/30], Loss: 0.4189\n",
      "Epoch [275/300], Step [20/30], Loss: 0.4128\n",
      "Epoch [276/300], Step [20/30], Loss: 0.4174\n",
      "Epoch [277/300], Step [20/30], Loss: 0.4143\n",
      "Epoch [278/300], Step [20/30], Loss: 0.4132\n",
      "Epoch [279/300], Step [20/30], Loss: 0.4186\n",
      "Epoch [280/300], Step [20/30], Loss: 0.4113\n",
      "Epoch [281/300], Step [20/30], Loss: 0.4180\n",
      "Epoch [282/300], Step [20/30], Loss: 0.4184\n",
      "Epoch [283/300], Step [20/30], Loss: 0.4129\n",
      "Epoch [284/300], Step [20/30], Loss: 0.4153\n",
      "Epoch [285/300], Step [20/30], Loss: 0.4165\n",
      "Epoch [286/300], Step [20/30], Loss: 0.4153\n",
      "Epoch [287/300], Step [20/30], Loss: 0.4168\n",
      "Epoch [288/300], Step [20/30], Loss: 0.4171\n",
      "Epoch [289/300], Step [20/30], Loss: 0.4105\n",
      "Epoch [290/300], Step [20/30], Loss: 0.4156\n",
      "Epoch [291/300], Step [20/30], Loss: 0.4160\n",
      "Epoch [292/300], Step [20/30], Loss: 0.4122\n",
      "Epoch [293/300], Step [20/30], Loss: 0.4101\n",
      "Epoch [294/300], Step [20/30], Loss: 0.4114\n",
      "Epoch [295/300], Step [20/30], Loss: 0.4124\n",
      "Epoch [296/300], Step [20/30], Loss: 0.4111\n",
      "Epoch [297/300], Step [20/30], Loss: 0.4092\n",
      "Epoch [298/300], Step [20/30], Loss: 0.4133\n",
      "Epoch [299/300], Step [20/30], Loss: 0.4097\n"
     ]
    }
   ],
   "execution_count": 16
  },
  {
   "metadata": {
    "ExecuteTime": {
     "end_time": "2024-05-10T23:32:56.634146Z",
     "start_time": "2024-05-10T23:32:56.391184Z"
    }
   },
   "cell_type": "code",
   "source": "check_normal_output(output[0], images[0], epoch=epoch + 1, batch=i + 1)",
   "id": "d1b27f06d83a1db6",
   "outputs": [
    {
     "name": "stdout",
     "output_type": "stream",
     "text": [
      "491\n"
     ]
    },
    {
     "data": {
      "text/plain": [
       "<Figure size 640x480 with 1 Axes>"
      ],
      "image/png": "[encoded data removed]"
     },
     "metadata": {},
     "output_type": "display_data"
    }
   ],
   "execution_count": 68
  },
  {
   "metadata": {
    "ExecuteTime": {
     "end_time": "2024-05-10T14:14:56.442866Z",
     "start_time": "2024-05-10T14:14:55.944739Z"
    }
   },
   "cell_type": "code",
   "source": "check_normal_output(model(images[:3]).squeeze(1)[1], images[1], threshold=0.5, epoch=1000, batch=1000)",
   "id": "6f461099c82f4a2f",
   "outputs": [
    {
     "name": "stdout",
     "output_type": "stream",
     "text": [
      "59\n"
     ]
    },
    {
     "data": {
      "text/plain": [
       "<Figure size 640x480 with 1 Axes>"
      ],
      "image/png": "[encoded data removed]"
     },
     "metadata": {},
     "output_type": "display_data"
    }
   ],
   "execution_count": 48
  },
  {
   "metadata": {
    "ExecuteTime": {
     "end_time": "2024-05-10T14:11:03.538432Z",
     "start_time": "2024-05-10T14:11:03.526045Z"
    }
   },
   "cell_type": "code",
   "source": "model(images[1].unsqueeze(0).to(device)).shape",
   "id": "2fdb91ffdaec8364",
   "outputs": [
    {
     "data": {
      "text/plain": [
       "torch.Size([1, 1, 16, 16, 16])"
      ]
     },
     "execution_count": 34,
     "metadata": {},
     "output_type": "execute_result"
    }
   ],
   "execution_count": 34
  },
  {
   "metadata": {
    "ExecuteTime": {
     "end_time": "2024-05-10T01:05:20.103203Z",
     "start_time": "2024-05-10T01:05:19.932650Z"
    }
   },
   "cell_type": "code",
   "source": "check_output(output[4], images[4], epoch=0)",
   "id": "fc5f1e58d3dff28d",
   "outputs": [
    {
     "data": {
      "text/plain": [
       "<Figure size 640x480 with 1 Axes>"
      ],
      "image/png": "[encoded data removed]"
     },
     "metadata": {},
     "output_type": "display_data"
    }
   ],
   "execution_count": 122
  },
  {
   "metadata": {
    "ExecuteTime": {
     "end_time": "2024-05-10T01:05:20.414592Z",
     "start_time": "2024-05-10T01:05:20.385038Z"
    }
   },
   "cell_type": "code",
   "source": "output[4]",
   "id": "17f90926de44140",
   "outputs": [
    {
     "data": {
      "text/plain": [
       "tensor([[[8.8006e-02, 2.0144e-01, 2.9009e-01,  ..., 8.9391e-02,\n",
       "          7.4145e-02, 3.3514e-02],\n",
       "         [1.3633e-01, 2.3901e-01, 2.7001e-01,  ..., 7.4983e-02,\n",
       "          7.2419e-02, 3.8240e-02],\n",
       "         [1.6877e-01, 2.6712e-01, 2.8253e-01,  ..., 6.7611e-02,\n",
       "          9.0792e-02, 3.1234e-02],\n",
       "         ...,\n",
       "         [3.1964e-02, 5.0868e-02, 5.6639e-02,  ..., 3.3566e-04,\n",
       "          1.1422e-03, 3.9571e-04],\n",
       "         [2.1923e-02, 2.8927e-02, 4.5737e-02,  ..., 2.8116e-04,\n",
       "          5.6690e-03, 5.9631e-03],\n",
       "         [5.7261e-03, 1.4686e-02, 1.9347e-02,  ..., 2.8720e-04,\n",
       "          4.6226e-03, 5.4296e-03]],\n",
       "\n",
       "        [[9.8284e-02, 1.8116e-01, 2.5352e-01,  ..., 1.0125e-01,\n",
       "          7.2335e-02, 3.6770e-02],\n",
       "         [1.5201e-01, 2.3681e-01, 3.1123e-01,  ..., 9.2363e-02,\n",
       "          7.7043e-02, 4.3951e-02],\n",
       "         [1.8236e-01, 3.0570e-01, 2.8118e-01,  ..., 5.4563e-02,\n",
       "          7.2248e-02, 3.4171e-02],\n",
       "         ...,\n",
       "         [2.5424e-02, 4.2590e-02, 6.6943e-02,  ..., 3.1306e-04,\n",
       "          6.4491e-04, 8.9639e-05],\n",
       "         [1.8536e-02, 3.7929e-02, 4.7517e-02,  ..., 1.4510e-04,\n",
       "          4.0019e-03, 4.9133e-03],\n",
       "         [6.1722e-03, 2.5516e-02, 1.3822e-02,  ..., 7.5239e-05,\n",
       "          4.4656e-03, 2.1932e-03]],\n",
       "\n",
       "        [[8.8006e-02, 2.0144e-01, 2.9009e-01,  ..., 8.9391e-02,\n",
       "          7.4145e-02, 3.3514e-02],\n",
       "         [1.3633e-01, 2.3901e-01, 2.7001e-01,  ..., 7.4983e-02,\n",
       "          7.2419e-02, 3.8240e-02],\n",
       "         [1.6877e-01, 2.6712e-01, 2.8253e-01,  ..., 6.7611e-02,\n",
       "          9.0792e-02, 3.1234e-02],\n",
       "         ...,\n",
       "         [3.1964e-02, 5.0868e-02, 5.6639e-02,  ..., 3.3566e-04,\n",
       "          1.1422e-03, 3.9571e-04],\n",
       "         [2.1923e-02, 2.8927e-02, 4.5737e-02,  ..., 2.8116e-04,\n",
       "          5.6690e-03, 5.9631e-03],\n",
       "         [5.7261e-03, 1.4686e-02, 1.9347e-02,  ..., 2.8720e-04,\n",
       "          4.6226e-03, 5.4296e-03]],\n",
       "\n",
       "        ...,\n",
       "\n",
       "        [[9.8284e-02, 1.8116e-01, 2.5352e-01,  ..., 1.0125e-01,\n",
       "          7.2335e-02, 3.6770e-02],\n",
       "         [1.5201e-01, 2.3681e-01, 3.1123e-01,  ..., 9.2363e-02,\n",
       "          7.7043e-02, 4.3951e-02],\n",
       "         [1.8236e-01, 3.0570e-01, 2.8118e-01,  ..., 5.4563e-02,\n",
       "          7.2248e-02, 3.4171e-02],\n",
       "         ...,\n",
       "         [2.5424e-02, 4.2590e-02, 6.6943e-02,  ..., 3.1306e-04,\n",
       "          6.4491e-04, 8.9639e-05],\n",
       "         [1.8536e-02, 3.7929e-02, 4.7517e-02,  ..., 1.4510e-04,\n",
       "          4.0019e-03, 4.9133e-03],\n",
       "         [6.1722e-03, 2.5516e-02, 1.3822e-02,  ..., 7.5239e-05,\n",
       "          4.4656e-03, 2.1932e-03]],\n",
       "\n",
       "        [[8.8006e-02, 2.0144e-01, 2.9009e-01,  ..., 8.9391e-02,\n",
       "          7.4145e-02, 3.3514e-02],\n",
       "         [1.3633e-01, 2.3901e-01, 2.7001e-01,  ..., 7.4983e-02,\n",
       "          7.2419e-02, 3.8240e-02],\n",
       "         [1.6877e-01, 2.6712e-01, 2.8253e-01,  ..., 6.7611e-02,\n",
       "          9.0792e-02, 3.1234e-02],\n",
       "         ...,\n",
       "         [3.1964e-02, 5.0868e-02, 5.6639e-02,  ..., 3.3566e-04,\n",
       "          1.1422e-03, 3.9571e-04],\n",
       "         [2.1923e-02, 2.8927e-02, 4.5737e-02,  ..., 2.8116e-04,\n",
       "          5.6690e-03, 5.9631e-03],\n",
       "         [5.7261e-03, 1.4686e-02, 1.9347e-02,  ..., 2.8720e-04,\n",
       "          4.6226e-03, 5.4296e-03]],\n",
       "\n",
       "        [[9.8284e-02, 1.8116e-01, 2.5352e-01,  ..., 1.0125e-01,\n",
       "          7.2335e-02, 3.6770e-02],\n",
       "         [1.5201e-01, 2.3681e-01, 3.1123e-01,  ..., 9.2363e-02,\n",
       "          7.7043e-02, 4.3951e-02],\n",
       "         [1.8236e-01, 3.0570e-01, 2.8118e-01,  ..., 5.4563e-02,\n",
       "          7.2248e-02, 3.4171e-02],\n",
       "         ...,\n",
       "         [2.5424e-02, 4.2590e-02, 6.6943e-02,  ..., 3.1306e-04,\n",
       "          6.4491e-04, 8.9639e-05],\n",
       "         [1.8536e-02, 3.7929e-02, 4.7517e-02,  ..., 1.4510e-04,\n",
       "          4.0019e-03, 4.9133e-03],\n",
       "         [6.1722e-03, 2.5516e-02, 1.3822e-02,  ..., 7.5239e-05,\n",
       "          4.4656e-03, 2.1932e-03]]], device='cuda:0',\n",
       "       grad_fn=<SelectBackward0>)"
      ]
     },
     "execution_count": 123,
     "metadata": {},
     "output_type": "execute_result"
    }
   ],
   "execution_count": 123
  },
  {
   "metadata": {
    "ExecuteTime": {
     "end_time": "2024-05-10T00:05:52.014910Z",
     "start_time": "2024-05-10T00:05:51.959799Z"
    }
   },
   "cell_type": "code",
   "source": "objects[0][0]",
   "id": "a0a2cfa72d326eea",
   "outputs": [
    {
     "data": {
      "text/plain": [
       "tensor([[[[0., 0., 0.,  ..., 0., 0., 0.],\n",
       "          [0., 0., 0.,  ..., 0., 0., 0.],\n",
       "          [0., 0., 1.,  ..., 0., 0., 0.],\n",
       "          ...,\n",
       "          [1., 1., 1.,  ..., 0., 0., 0.],\n",
       "          [0., 0., 1.,  ..., 0., 0., 0.],\n",
       "          [0., 0., 0.,  ..., 0., 0., 0.]],\n",
       "\n",
       "         [[0., 0., 0.,  ..., 0., 0., 0.],\n",
       "          [0., 0., 0.,  ..., 0., 0., 0.],\n",
       "          [0., 0., 0.,  ..., 0., 0., 0.],\n",
       "          ...,\n",
       "          [0., 0., 0.,  ..., 0., 0., 0.],\n",
       "          [0., 0., 0.,  ..., 0., 0., 0.],\n",
       "          [0., 0., 0.,  ..., 0., 0., 0.]],\n",
       "\n",
       "         [[0., 0., 0.,  ..., 0., 0., 0.],\n",
       "          [0., 0., 0.,  ..., 0., 0., 0.],\n",
       "          [0., 0., 0.,  ..., 0., 0., 0.],\n",
       "          ...,\n",
       "          [0., 0., 0.,  ..., 0., 0., 0.],\n",
       "          [0., 0., 0.,  ..., 0., 0., 0.],\n",
       "          [0., 0., 0.,  ..., 0., 0., 0.]],\n",
       "\n",
       "         ...,\n",
       "\n",
       "         [[0., 0., 0.,  ..., 0., 0., 0.],\n",
       "          [0., 0., 0.,  ..., 0., 0., 0.],\n",
       "          [0., 0., 0.,  ..., 0., 0., 0.],\n",
       "          ...,\n",
       "          [0., 0., 0.,  ..., 0., 0., 0.],\n",
       "          [0., 0., 0.,  ..., 0., 0., 0.],\n",
       "          [0., 0., 0.,  ..., 0., 0., 0.]],\n",
       "\n",
       "         [[0., 0., 0.,  ..., 0., 0., 0.],\n",
       "          [0., 0., 0.,  ..., 0., 0., 0.],\n",
       "          [0., 0., 0.,  ..., 0., 0., 0.],\n",
       "          ...,\n",
       "          [0., 0., 0.,  ..., 0., 0., 0.],\n",
       "          [0., 0., 0.,  ..., 0., 0., 0.],\n",
       "          [0., 0., 0.,  ..., 0., 0., 0.]],\n",
       "\n",
       "         [[0., 0., 0.,  ..., 0., 0., 0.],\n",
       "          [0., 0., 0.,  ..., 0., 0., 0.],\n",
       "          [0., 0., 0.,  ..., 0., 0., 0.],\n",
       "          ...,\n",
       "          [0., 0., 0.,  ..., 0., 0., 0.],\n",
       "          [0., 0., 0.,  ..., 0., 0., 0.],\n",
       "          [0., 0., 0.,  ..., 0., 0., 0.]]],\n",
       "\n",
       "\n",
       "        [[[0., 0., 0.,  ..., 0., 0., 0.],\n",
       "          [0., 0., 0.,  ..., 0., 0., 0.],\n",
       "          [0., 0., 0.,  ..., 0., 0., 0.],\n",
       "          ...,\n",
       "          [1., 1., 1.,  ..., 0., 0., 0.],\n",
       "          [0., 0., 0.,  ..., 0., 0., 0.],\n",
       "          [0., 0., 0.,  ..., 0., 0., 0.]],\n",
       "\n",
       "         [[0., 0., 0.,  ..., 0., 0., 0.],\n",
       "          [0., 0., 0.,  ..., 0., 0., 0.],\n",
       "          [0., 0., 1.,  ..., 0., 0., 0.],\n",
       "          ...,\n",
       "          [1., 1., 1.,  ..., 0., 0., 0.],\n",
       "          [0., 0., 1.,  ..., 0., 0., 0.],\n",
       "          [0., 0., 0.,  ..., 0., 0., 0.]],\n",
       "\n",
       "         [[0., 0., 0.,  ..., 0., 0., 0.],\n",
       "          [0., 0., 0.,  ..., 0., 0., 0.],\n",
       "          [0., 0., 0.,  ..., 0., 0., 0.],\n",
       "          ...,\n",
       "          [0., 0., 0.,  ..., 0., 0., 0.],\n",
       "          [0., 0., 0.,  ..., 0., 0., 0.],\n",
       "          [0., 0., 0.,  ..., 0., 0., 0.]],\n",
       "\n",
       "         ...,\n",
       "\n",
       "         [[0., 0., 0.,  ..., 0., 0., 0.],\n",
       "          [0., 0., 0.,  ..., 0., 0., 0.],\n",
       "          [0., 0., 0.,  ..., 0., 0., 0.],\n",
       "          ...,\n",
       "          [0., 0., 0.,  ..., 0., 0., 0.],\n",
       "          [0., 0., 0.,  ..., 0., 0., 0.],\n",
       "          [0., 0., 0.,  ..., 0., 0., 0.]],\n",
       "\n",
       "         [[0., 0., 0.,  ..., 0., 0., 0.],\n",
       "          [0., 0., 0.,  ..., 0., 0., 0.],\n",
       "          [0., 0., 0.,  ..., 0., 0., 0.],\n",
       "          ...,\n",
       "          [0., 0., 0.,  ..., 0., 0., 0.],\n",
       "          [0., 0., 0.,  ..., 0., 0., 0.],\n",
       "          [0., 0., 0.,  ..., 0., 0., 0.]],\n",
       "\n",
       "         [[0., 0., 0.,  ..., 0., 0., 0.],\n",
       "          [0., 0., 0.,  ..., 0., 0., 0.],\n",
       "          [0., 0., 0.,  ..., 0., 0., 0.],\n",
       "          ...,\n",
       "          [0., 0., 0.,  ..., 0., 0., 0.],\n",
       "          [0., 0., 0.,  ..., 0., 0., 0.],\n",
       "          [0., 0., 0.,  ..., 0., 0., 0.]]],\n",
       "\n",
       "\n",
       "        [[[0., 0., 0.,  ..., 0., 0., 0.],\n",
       "          [0., 0., 0.,  ..., 0., 0., 0.],\n",
       "          [0., 0., 0.,  ..., 0., 0., 0.],\n",
       "          ...,\n",
       "          [1., 1., 0.,  ..., 0., 0., 0.],\n",
       "          [0., 0., 0.,  ..., 0., 0., 0.],\n",
       "          [0., 0., 0.,  ..., 0., 0., 0.]],\n",
       "\n",
       "         [[0., 0., 0.,  ..., 0., 0., 0.],\n",
       "          [0., 0., 0.,  ..., 0., 0., 0.],\n",
       "          [0., 0., 0.,  ..., 0., 0., 0.],\n",
       "          ...,\n",
       "          [1., 1., 1.,  ..., 0., 0., 0.],\n",
       "          [0., 0., 0.,  ..., 0., 0., 0.],\n",
       "          [0., 0., 0.,  ..., 0., 0., 0.]],\n",
       "\n",
       "         [[0., 0., 0.,  ..., 0., 0., 0.],\n",
       "          [0., 0., 0.,  ..., 0., 0., 0.],\n",
       "          [0., 0., 1.,  ..., 0., 0., 0.],\n",
       "          ...,\n",
       "          [0., 1., 1.,  ..., 0., 0., 0.],\n",
       "          [0., 0., 1.,  ..., 0., 0., 0.],\n",
       "          [0., 0., 0.,  ..., 0., 0., 0.]],\n",
       "\n",
       "         ...,\n",
       "\n",
       "         [[0., 0., 0.,  ..., 0., 0., 0.],\n",
       "          [0., 0., 0.,  ..., 0., 0., 0.],\n",
       "          [0., 0., 0.,  ..., 0., 0., 0.],\n",
       "          ...,\n",
       "          [0., 0., 0.,  ..., 0., 0., 0.],\n",
       "          [0., 0., 0.,  ..., 0., 0., 0.],\n",
       "          [0., 0., 0.,  ..., 0., 0., 0.]],\n",
       "\n",
       "         [[0., 0., 0.,  ..., 0., 0., 0.],\n",
       "          [0., 0., 0.,  ..., 0., 0., 0.],\n",
       "          [0., 0., 0.,  ..., 0., 0., 0.],\n",
       "          ...,\n",
       "          [0., 0., 0.,  ..., 0., 0., 0.],\n",
       "          [0., 0., 0.,  ..., 0., 0., 0.],\n",
       "          [0., 0., 0.,  ..., 0., 0., 0.]],\n",
       "\n",
       "         [[0., 0., 0.,  ..., 0., 0., 0.],\n",
       "          [0., 0., 0.,  ..., 0., 0., 0.],\n",
       "          [0., 0., 0.,  ..., 0., 0., 0.],\n",
       "          ...,\n",
       "          [0., 0., 0.,  ..., 0., 0., 0.],\n",
       "          [0., 0., 0.,  ..., 0., 0., 0.],\n",
       "          [0., 0., 0.,  ..., 0., 0., 0.]]],\n",
       "\n",
       "\n",
       "        ...,\n",
       "\n",
       "\n",
       "        [[[0., 0., 0.,  ..., 0., 0., 0.],\n",
       "          [0., 0., 0.,  ..., 0., 0., 0.],\n",
       "          [0., 0., 0.,  ..., 0., 0., 0.],\n",
       "          ...,\n",
       "          [0., 0., 0.,  ..., 0., 0., 0.],\n",
       "          [0., 0., 0.,  ..., 0., 0., 0.],\n",
       "          [0., 0., 0.,  ..., 0., 0., 0.]],\n",
       "\n",
       "         [[0., 0., 0.,  ..., 0., 0., 0.],\n",
       "          [0., 0., 0.,  ..., 0., 0., 0.],\n",
       "          [0., 0., 0.,  ..., 0., 0., 0.],\n",
       "          ...,\n",
       "          [0., 0., 0.,  ..., 0., 0., 0.],\n",
       "          [0., 0., 0.,  ..., 0., 0., 0.],\n",
       "          [0., 0., 0.,  ..., 0., 0., 0.]],\n",
       "\n",
       "         [[0., 0., 0.,  ..., 0., 0., 0.],\n",
       "          [0., 0., 0.,  ..., 0., 0., 0.],\n",
       "          [0., 0., 0.,  ..., 0., 0., 0.],\n",
       "          ...,\n",
       "          [0., 0., 0.,  ..., 0., 0., 0.],\n",
       "          [0., 0., 0.,  ..., 0., 0., 0.],\n",
       "          [0., 0., 0.,  ..., 0., 0., 0.]],\n",
       "\n",
       "         ...,\n",
       "\n",
       "         [[0., 0., 0.,  ..., 0., 0., 0.],\n",
       "          [0., 0., 0.,  ..., 0., 0., 0.],\n",
       "          [0., 0., 0.,  ..., 0., 0., 0.],\n",
       "          ...,\n",
       "          [0., 0., 0.,  ..., 0., 0., 0.],\n",
       "          [0., 0., 0.,  ..., 0., 0., 0.],\n",
       "          [0., 0., 0.,  ..., 0., 0., 0.]],\n",
       "\n",
       "         [[0., 0., 0.,  ..., 0., 0., 0.],\n",
       "          [0., 0., 0.,  ..., 0., 0., 0.],\n",
       "          [0., 0., 0.,  ..., 0., 0., 0.],\n",
       "          ...,\n",
       "          [0., 0., 0.,  ..., 0., 0., 0.],\n",
       "          [0., 0., 0.,  ..., 0., 0., 0.],\n",
       "          [0., 0., 0.,  ..., 0., 0., 0.]],\n",
       "\n",
       "         [[0., 0., 0.,  ..., 0., 0., 0.],\n",
       "          [0., 0., 0.,  ..., 0., 0., 0.],\n",
       "          [0., 0., 0.,  ..., 0., 0., 0.],\n",
       "          ...,\n",
       "          [0., 0., 0.,  ..., 0., 0., 0.],\n",
       "          [0., 0., 0.,  ..., 0., 0., 0.],\n",
       "          [0., 0., 0.,  ..., 0., 0., 0.]]],\n",
       "\n",
       "\n",
       "        [[[0., 0., 0.,  ..., 0., 0., 0.],\n",
       "          [0., 0., 0.,  ..., 0., 0., 0.],\n",
       "          [0., 0., 0.,  ..., 0., 0., 0.],\n",
       "          ...,\n",
       "          [0., 0., 0.,  ..., 0., 0., 0.],\n",
       "          [0., 0., 0.,  ..., 0., 0., 0.],\n",
       "          [0., 0., 0.,  ..., 0., 0., 0.]],\n",
       "\n",
       "         [[0., 0., 0.,  ..., 0., 0., 0.],\n",
       "          [0., 0., 0.,  ..., 0., 0., 0.],\n",
       "          [0., 0., 0.,  ..., 0., 0., 0.],\n",
       "          ...,\n",
       "          [0., 0., 0.,  ..., 0., 0., 0.],\n",
       "          [0., 0., 0.,  ..., 0., 0., 0.],\n",
       "          [0., 0., 0.,  ..., 0., 0., 0.]],\n",
       "\n",
       "         [[0., 0., 0.,  ..., 0., 0., 0.],\n",
       "          [0., 0., 0.,  ..., 0., 0., 0.],\n",
       "          [0., 0., 0.,  ..., 0., 0., 0.],\n",
       "          ...,\n",
       "          [0., 0., 0.,  ..., 0., 0., 0.],\n",
       "          [0., 0., 0.,  ..., 0., 0., 0.],\n",
       "          [0., 0., 0.,  ..., 0., 0., 0.]],\n",
       "\n",
       "         ...,\n",
       "\n",
       "         [[0., 0., 0.,  ..., 0., 0., 0.],\n",
       "          [0., 0., 0.,  ..., 0., 0., 0.],\n",
       "          [0., 0., 0.,  ..., 0., 0., 0.],\n",
       "          ...,\n",
       "          [0., 0., 0.,  ..., 0., 0., 0.],\n",
       "          [0., 0., 0.,  ..., 0., 0., 0.],\n",
       "          [0., 0., 0.,  ..., 0., 0., 0.]],\n",
       "\n",
       "         [[0., 0., 0.,  ..., 0., 0., 0.],\n",
       "          [0., 0., 0.,  ..., 0., 0., 0.],\n",
       "          [0., 0., 0.,  ..., 0., 0., 0.],\n",
       "          ...,\n",
       "          [0., 0., 0.,  ..., 0., 0., 0.],\n",
       "          [0., 0., 0.,  ..., 0., 0., 0.],\n",
       "          [0., 0., 0.,  ..., 0., 0., 0.]],\n",
       "\n",
       "         [[0., 0., 0.,  ..., 0., 0., 0.],\n",
       "          [0., 0., 0.,  ..., 0., 0., 0.],\n",
       "          [0., 0., 0.,  ..., 0., 0., 0.],\n",
       "          ...,\n",
       "          [0., 0., 0.,  ..., 0., 0., 0.],\n",
       "          [0., 0., 0.,  ..., 0., 0., 0.],\n",
       "          [0., 0., 0.,  ..., 0., 0., 0.]]],\n",
       "\n",
       "\n",
       "        [[[0., 0., 0.,  ..., 0., 0., 0.],\n",
       "          [0., 0., 0.,  ..., 0., 0., 0.],\n",
       "          [0., 0., 0.,  ..., 0., 0., 0.],\n",
       "          ...,\n",
       "          [0., 0., 0.,  ..., 0., 0., 0.],\n",
       "          [0., 0., 0.,  ..., 0., 0., 0.],\n",
       "          [0., 0., 0.,  ..., 0., 0., 0.]],\n",
       "\n",
       "         [[0., 0., 0.,  ..., 0., 0., 0.],\n",
       "          [0., 0., 0.,  ..., 0., 0., 0.],\n",
       "          [0., 0., 0.,  ..., 0., 0., 0.],\n",
       "          ...,\n",
       "          [0., 0., 0.,  ..., 0., 0., 0.],\n",
       "          [0., 0., 0.,  ..., 0., 0., 0.],\n",
       "          [0., 0., 0.,  ..., 0., 0., 0.]],\n",
       "\n",
       "         [[0., 0., 0.,  ..., 0., 0., 0.],\n",
       "          [0., 0., 0.,  ..., 0., 0., 0.],\n",
       "          [0., 0., 0.,  ..., 0., 0., 0.],\n",
       "          ...,\n",
       "          [0., 0., 0.,  ..., 0., 0., 0.],\n",
       "          [0., 0., 0.,  ..., 0., 0., 0.],\n",
       "          [0., 0., 0.,  ..., 0., 0., 0.]],\n",
       "\n",
       "         ...,\n",
       "\n",
       "         [[0., 0., 0.,  ..., 0., 0., 0.],\n",
       "          [0., 0., 0.,  ..., 0., 0., 0.],\n",
       "          [0., 0., 0.,  ..., 0., 0., 0.],\n",
       "          ...,\n",
       "          [0., 0., 0.,  ..., 0., 0., 0.],\n",
       "          [0., 0., 0.,  ..., 0., 0., 0.],\n",
       "          [0., 0., 0.,  ..., 0., 0., 0.]],\n",
       "\n",
       "         [[0., 0., 0.,  ..., 0., 0., 0.],\n",
       "          [0., 0., 0.,  ..., 0., 0., 0.],\n",
       "          [0., 0., 0.,  ..., 0., 0., 0.],\n",
       "          ...,\n",
       "          [0., 0., 0.,  ..., 0., 0., 0.],\n",
       "          [0., 0., 0.,  ..., 0., 0., 0.],\n",
       "          [0., 0., 0.,  ..., 0., 0., 0.]],\n",
       "\n",
       "         [[0., 0., 0.,  ..., 0., 0., 0.],\n",
       "          [0., 0., 0.,  ..., 0., 0., 0.],\n",
       "          [0., 0., 0.,  ..., 0., 0., 0.],\n",
       "          ...,\n",
       "          [0., 0., 0.,  ..., 0., 0., 0.],\n",
       "          [0., 0., 0.,  ..., 0., 0., 0.],\n",
       "          [0., 0., 0.,  ..., 0., 0., 0.]]]], device='cuda:0')"
      ]
     },
     "execution_count": 144,
     "metadata": {},
     "output_type": "execute_result"
    }
   ],
   "execution_count": 144
  },
  {
   "metadata": {},
   "cell_type": "code",
   "outputs": [],
   "execution_count": null,
   "source": "",
   "id": "ecac770321a68b36"
  }
 ],
 "metadata": {
  "kernelspec": {
   "display_name": "Python 3",
   "language": "python",
   "name": "python3"
  },
  "language_info": {
   "codemirror_mode": {
    "name": "ipython",
    "version": 2
   },
   "file_extension": ".py",
   "mimetype": "text/x-python",
   "name": "python",
   "nbconvert_exporter": "python",
   "pygments_lexer": "ipython2",
   "version": "2.7.6"
  }
 },
 "nbformat": 4,
 "nbformat_minor": 5
}
